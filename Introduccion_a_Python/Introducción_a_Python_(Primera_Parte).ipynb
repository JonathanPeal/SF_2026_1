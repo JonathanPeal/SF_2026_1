{
  "cells": [
    {
      "cell_type": "markdown",
      "metadata": {
        "id": "SA0-YCVY-m9H"
      },
      "source": [
        "</b><font color = #000066 size=6.5> Facultad de Ciencias</font>\n",
        "<br><font color = #CC9933 size=6.5> UNAM </font>\n",
        "<br><font color = ##A1C8DC size=6.5> Métodos Cuantitativos en Finanzas 2025-2 </font>\n",
        " <br><font color = silver size=7> Introducción a Python</font>"
      ]
    },
    {
      "cell_type": "markdown",
      "metadata": {
        "id": "uv4q6GxtB9e_"
      },
      "source": [
        "Referencia principal: *Python for Finance* de Antoine Jacquier."
      ]
    },
    {
      "cell_type": "markdown",
      "metadata": {
        "id": "2zdb_hskAUme"
      },
      "source": [
        "# Introducción a Python (Primera Parte)"
      ]
    },
    {
      "cell_type": "markdown",
      "metadata": {
        "id": "FoQ_equNQ9u5"
      },
      "source": [
        "## Primeros pasos"
      ]
    },
    {
      "cell_type": "markdown",
      "metadata": {
        "id": "abWzxqiJShjJ"
      },
      "source": [
        "### 1. Celdas `Cell`\n",
        "Una Celda es como un ladrillo. Cada Entorno Colaborativo consiste en múltiples celdas y se pueden añadir con hacer click en la parte superior izquierda ( `+Código` `+Texto`) o bien poniendo nuestro cursos debajo de la última celda del Entorno Colaborativo ( `+Código` `+Texto`).\n",
        "\n",
        "Para eliminar celdas le puedes dar click en la celda y luego seleccionar la casilla `Eliminar Celda` en la esquina superior derecha.\n",
        "\n",
        "#### 1.1 Tipos de celdas\n",
        "\n",
        "En Google Colab hay fundamentalmente dos tipos de celdas:\n",
        "* `Texto`, que podemos usar para escribir texto (como éste) y formulas matemáticas a través de comandos de $LaTeX$, por ejemplo  \n",
        "$$\n",
        "\\frac{1}{2\\pi}\\int_{\\mathbb{R}}\\exp\\left(-\\frac{x^2}{2}\\right)dx = \\cdots\n",
        "$$\n",
        "\n",
        "<br><font color = #3F6E9A size=5> NOTA </font>  Siempre que entreguen tareas en Notebooks de Python y para aplicar a trabajos que soliciten códigos, para hacer tareas en equipo, proyectos, etc.) es importante usar celdas de Texto y Código para hacer más comprensible y entendible su código.\n",
        "\n",
        "\n",
        "* `Código` se utiliza para ejecutar código.\n"
      ]
    },
    {
      "cell_type": "code",
      "execution_count": 25,
      "metadata": {
        "colab": {
          "base_uri": "https://localhost:8080/"
        },
        "id": "lD8fGH5Yvd9J",
        "outputId": "77c41e34-04dd-4e1e-84e5-6f7ba6aca3fe"
      },
      "outputs": [
        {
          "name": "stdout",
          "output_type": "stream",
          "text": [
            "¡Hola estudiantes de MCF! Este es un ejemplo de celda tipo Codigo.\n"
          ]
        }
      ],
      "source": [
        "print(\"¡Hola estudiantes de MCF!\", \"Este es un ejemplo de celda tipo Codigo.\")"
      ]
    },
    {
      "cell_type": "markdown",
      "metadata": {},
      "source": [
        "#### Usar el elemento `!`\n",
        "\n",
        "En la celda anterior usamos `!` para conocer la versión que tenemos instalada de Python. El elemento `!` le dice al intérprete que mande el código a la línea de comando terminal de mi computador o bien desde el kernel (núcleo) de mi entorno colaborativo, como lo es Google Colab o Jupyter Notebook. De esta manera podemos utilizar este tipo de código que se debe correr en la terminal, directamente aquí en una celda tipo `Código`."
      ]
    },
    {
      "cell_type": "code",
      "execution_count": 26,
      "metadata": {
        "colab": {
          "base_uri": "https://localhost:8080/"
        },
        "id": "A3kmJRwiyJRU",
        "outputId": "cf8d912d-2dbe-4a5b-ed46-c43ca10d2403"
      },
      "outputs": [
        {
          "name": "stdout",
          "output_type": "stream",
          "text": [
            "Python 3.11.4\n"
          ]
        }
      ],
      "source": [
        "!python3 --version"
      ]
    },
    {
      "cell_type": "markdown",
      "metadata": {
        "id": "_9HA3Cowyyqm"
      },
      "source": [
        "### Instalar paquetes/librerías/módulos de Python\n",
        "\n",
        "Uno de los grandes beneficios de Python es que su comunidad desarrolladora es muy activa. Esto significa que, antes de que pienses en implementar un algoritmo por tu cuenta, vale la pena que revises si exite algún paquete de libre distribucón que realice la actividad que necesitas.\n",
        "\n",
        "**PIP (Pip Installs Packages)** *es la herramienta para instalar dichos* paquetes.\n",
        "\n",
        "Por ejemplo, YFinance es popular para obtener datos financieros desde Yahoo Finance, podemos instalarla con `pip install yfinance` en la línea de comandos o terminal.\n",
        "\n",
        "O bien, usando la *keyword* `!` en una celda `Código` de la siguiente manera:"
      ]
    },
    {
      "cell_type": "code",
      "execution_count": 27,
      "metadata": {
        "colab": {
          "base_uri": "https://localhost:8080/"
        },
        "id": "WDOKphN4zEQQ",
        "outputId": "4163f0a6-1906-493b-c1ff-3ed57053d1e7"
      },
      "outputs": [
        {
          "name": "stdout",
          "output_type": "stream",
          "text": [
            "Requirement already satisfied: yfinance in /Users/jonathanpena/anaconda3/envs/workShop/lib/python3.11/site-packages (0.2.37)\n",
            "Requirement already satisfied: pandas>=1.3.0 in /Users/jonathanpena/anaconda3/envs/workShop/lib/python3.11/site-packages (from yfinance) (2.2.3)\n",
            "Requirement already satisfied: numpy>=1.16.5 in /Users/jonathanpena/anaconda3/envs/workShop/lib/python3.11/site-packages (from yfinance) (1.26.4)\n",
            "Requirement already satisfied: requests>=2.31 in /Users/jonathanpena/anaconda3/envs/workShop/lib/python3.11/site-packages (from yfinance) (2.31.0)\n",
            "Requirement already satisfied: multitasking>=0.0.7 in /Users/jonathanpena/anaconda3/envs/workShop/lib/python3.11/site-packages (from yfinance) (0.0.11)\n",
            "Requirement already satisfied: lxml>=4.9.1 in /Users/jonathanpena/anaconda3/envs/workShop/lib/python3.11/site-packages (from yfinance) (4.9.2)\n",
            "Requirement already satisfied: appdirs>=1.4.4 in /Users/jonathanpena/anaconda3/envs/workShop/lib/python3.11/site-packages (from yfinance) (1.4.4)\n",
            "Requirement already satisfied: pytz>=2022.5 in /Users/jonathanpena/anaconda3/envs/workShop/lib/python3.11/site-packages (from yfinance) (2022.7)\n",
            "Requirement already satisfied: frozendict>=2.3.4 in /Users/jonathanpena/anaconda3/envs/workShop/lib/python3.11/site-packages (from yfinance) (2.4.0)\n",
            "Requirement already satisfied: peewee>=3.16.2 in /Users/jonathanpena/anaconda3/envs/workShop/lib/python3.11/site-packages (from yfinance) (3.17.1)\n",
            "Requirement already satisfied: beautifulsoup4>=4.11.1 in /Users/jonathanpena/anaconda3/envs/workShop/lib/python3.11/site-packages (from yfinance) (4.12.2)\n",
            "Requirement already satisfied: html5lib>=1.1 in /Users/jonathanpena/anaconda3/envs/workShop/lib/python3.11/site-packages (from yfinance) (1.1)\n",
            "Requirement already satisfied: soupsieve>1.2 in /Users/jonathanpena/anaconda3/envs/workShop/lib/python3.11/site-packages (from beautifulsoup4>=4.11.1->yfinance) (2.4)\n",
            "Requirement already satisfied: six>=1.9 in /Users/jonathanpena/anaconda3/envs/workShop/lib/python3.11/site-packages (from html5lib>=1.1->yfinance) (1.16.0)\n",
            "Requirement already satisfied: webencodings in /Users/jonathanpena/anaconda3/envs/workShop/lib/python3.11/site-packages (from html5lib>=1.1->yfinance) (0.5.1)\n",
            "Requirement already satisfied: python-dateutil>=2.8.2 in /Users/jonathanpena/anaconda3/envs/workShop/lib/python3.11/site-packages (from pandas>=1.3.0->yfinance) (2.8.2)\n",
            "Requirement already satisfied: tzdata>=2022.7 in /Users/jonathanpena/anaconda3/envs/workShop/lib/python3.11/site-packages (from pandas>=1.3.0->yfinance) (2024.1)\n",
            "Requirement already satisfied: charset-normalizer<4,>=2 in /Users/jonathanpena/anaconda3/envs/workShop/lib/python3.11/site-packages (from requests>=2.31->yfinance) (2.0.4)\n",
            "Requirement already satisfied: idna<4,>=2.5 in /Users/jonathanpena/anaconda3/envs/workShop/lib/python3.11/site-packages (from requests>=2.31->yfinance) (3.4)\n",
            "Requirement already satisfied: urllib3<3,>=1.21.1 in /Users/jonathanpena/anaconda3/envs/workShop/lib/python3.11/site-packages (from requests>=2.31->yfinance) (1.26.16)\n",
            "Requirement already satisfied: certifi>=2017.4.17 in /Users/jonathanpena/anaconda3/envs/workShop/lib/python3.11/site-packages (from requests>=2.31->yfinance) (2023.5.7)\n"
          ]
        }
      ],
      "source": [
        "!pip install yfinance"
      ]
    },
    {
      "cell_type": "markdown",
      "metadata": {
        "id": "xjlXe7a4zjO2"
      },
      "source": [
        "## Datos numéricos y operaciones elementales"
      ]
    },
    {
      "cell_type": "markdown",
      "metadata": {
        "id": "pDqfGASGKlIZ"
      },
      "source": [
        "En Python existen tres tipos de datos numéricos elementales:\n",
        "\n",
        "\n",
        "1.   `int`\n",
        "2.   `float`\n",
        "3.   `complex`\n",
        "\n",
        "\n",
        "\n"
      ]
    },
    {
      "cell_type": "markdown",
      "metadata": {
        "id": "At4foiAMIRV7"
      },
      "source": [
        "#### Datos númeicos de tipo enteros: `int`"
      ]
    },
    {
      "cell_type": "markdown",
      "metadata": {
        "id": "EPS2oyOxIwf8"
      },
      "source": [
        "Este tipo de variables se asocia al conjunto de los números enteros, sin embargo la capacidad de almacenar números muy muy grandes se ve limitado por la capacidad de memoria a la que tenga acceso nuestro sistema."
      ]
    },
    {
      "cell_type": "code",
      "execution_count": 28,
      "metadata": {
        "colab": {
          "base_uri": "https://localhost:8080/"
        },
        "id": "iM66eny63-OI",
        "outputId": "8c564649-0f57-4098-f4ec-6eab5c438269"
      },
      "outputs": [
        {
          "data": {
            "text/plain": [
              "7"
            ]
          },
          "execution_count": 28,
          "metadata": {},
          "output_type": "execute_result"
        }
      ],
      "source": [
        "5+2"
      ]
    },
    {
      "cell_type": "code",
      "execution_count": 29,
      "metadata": {
        "colab": {
          "base_uri": "https://localhost:8080/"
        },
        "id": "xO-l7e_4zsCD",
        "outputId": "554bdfe2-1326-4b6b-ecae-962c0b1cdfb8"
      },
      "outputs": [
        {
          "name": "stdout",
          "output_type": "stream",
          "text": [
            "<class 'int'>\n",
            "<class 'int'>\n"
          ]
        }
      ],
      "source": [
        "a = 5\n",
        "b = -7\n",
        "\n",
        "print(type(a))\n",
        "print(type(b))"
      ]
    },
    {
      "cell_type": "code",
      "execution_count": 30,
      "metadata": {
        "colab": {
          "base_uri": "https://localhost:8080/"
        },
        "id": "wOX6EB9PsKNU",
        "outputId": "0539b889-9fec-4dab-eb10-f4768a537593"
      },
      "outputs": [
        {
          "name": "stdout",
          "output_type": "stream",
          "text": [
            "1\n",
            "10\n"
          ]
        }
      ],
      "source": [
        "a, b = 1, 10\n",
        "print(a)\n",
        "print(b)"
      ]
    },
    {
      "cell_type": "markdown",
      "metadata": {
        "id": "2q7Vjl7DJXxM"
      },
      "source": [
        "<br><font color = #3F6E9A size=5> NOTA </font> `type()`es una ***función*** base de Python que recibe una variable y nos indica la ***Clase*** a la que pertenece. En este caso, a y b son elementos de la Clase `int`"
      ]
    },
    {
      "cell_type": "markdown",
      "metadata": {
        "id": "7a1j_zcXJJsg"
      },
      "source": [
        "#### Datos numéricos de tipo punto flotante: `float`"
      ]
    },
    {
      "cell_type": "markdown",
      "metadata": {
        "id": "03Inf_2vKhHw"
      },
      "source": [
        "Este tipo de datos se asocia a los números reales que tienen una parte decimal."
      ]
    },
    {
      "cell_type": "code",
      "execution_count": 31,
      "metadata": {
        "colab": {
          "base_uri": "https://localhost:8080/"
        },
        "id": "JZqVEbJFKgGc",
        "outputId": "9daae147-63d4-4587-cc54-f3694da8fc5b"
      },
      "outputs": [
        {
          "name": "stdout",
          "output_type": "stream",
          "text": [
            "<class 'float'>\n",
            "<class 'float'>\n",
            "<class 'float'>\n"
          ]
        }
      ],
      "source": [
        "c = 21.54\n",
        "d = -18.96\n",
        "e = 1.0\n",
        "\n",
        "print(type(c))\n",
        "print(type(d))\n",
        "print(type(e))"
      ]
    },
    {
      "cell_type": "markdown",
      "metadata": {
        "id": "-GEy9dKSL4uC"
      },
      "source": [
        "#### Datos numéricos de tipo número complejo: `complex`"
      ]
    },
    {
      "cell_type": "markdown",
      "metadata": {
        "id": "54D2DxUCL_vD"
      },
      "source": [
        "Este tipo de datos se asocia a números pertenecientes al conjunto de los números complejos, aquellos que expresamos con una parte real y una parte imaginaria, es decir del tipo:\n",
        "$$ z = a + ib$$\n",
        "Donde $a,b\\in \\mathbb{R}$.\n",
        "\n",
        "No obstante, la forma de escribir un número complejo en Python sigue una estructura de la siguiente forma:\n",
        "```\n",
        "z = a + bj\n",
        "```\n",
        "\n"
      ]
    },
    {
      "cell_type": "code",
      "execution_count": 32,
      "metadata": {
        "colab": {
          "base_uri": "https://localhost:8080/"
        },
        "id": "xYtjHVadMrBo",
        "outputId": "3b8b2d9f-4150-4427-a088-6358b8d3cd95"
      },
      "outputs": [
        {
          "name": "stdout",
          "output_type": "stream",
          "text": [
            "<class 'complex'>\n",
            "<class 'complex'>\n"
          ]
        }
      ],
      "source": [
        "z = 4 + 10j\n",
        "w = -1 + 2j\n",
        "\n",
        "print(type(z))\n",
        "print(type(w))"
      ]
    },
    {
      "cell_type": "markdown",
      "metadata": {
        "id": "0g6CK25DNzok"
      },
      "source": [
        "## Operaciones básicas en Python"
      ]
    },
    {
      "cell_type": "markdown",
      "metadata": {
        "id": "QRrdbzohOkQQ"
      },
      "source": [
        "La suma de dos números la indicamos con `+` de la siguiente manera"
      ]
    },
    {
      "cell_type": "code",
      "execution_count": 33,
      "metadata": {
        "colab": {
          "base_uri": "https://localhost:8080/"
        },
        "id": "2dU34L_xOwYw",
        "outputId": "75d37b07-88da-4de5-c774-49f7b270190e"
      },
      "outputs": [
        {
          "name": "stdout",
          "output_type": "stream",
          "text": [
            "-2.5\n",
            "-2.5\n"
          ]
        }
      ],
      "source": [
        "a = 5\n",
        "b = -7.5\n",
        "c = a + b\n",
        "\n",
        "print(a+b)\n",
        "print(c)"
      ]
    },
    {
      "cell_type": "markdown",
      "metadata": {
        "id": "1I0mc0CTPI-z"
      },
      "source": [
        "El producto de dos números lo indicamos mediante `*` de forma análoga a la suma"
      ]
    },
    {
      "cell_type": "code",
      "execution_count": 34,
      "metadata": {
        "colab": {
          "base_uri": "https://localhost:8080/"
        },
        "id": "FK4TaR2EPVWa",
        "outputId": "e2bfb298-ba84-4482-e8b9-03860566710f"
      },
      "outputs": [
        {
          "name": "stdout",
          "output_type": "stream",
          "text": [
            "-35.0\n",
            "-35.0\n"
          ]
        }
      ],
      "source": [
        "a = 5.0\n",
        "b = -7.0\n",
        "c = a * b\n",
        "\n",
        "print(a * b)\n",
        "print(c)"
      ]
    },
    {
      "cell_type": "markdown",
      "metadata": {
        "id": "CbDsydHE0rKC"
      },
      "source": [
        "\n",
        "La potencia la indicamos en Python con doble asterisco `** `, notando que en este caso (a diferencia de la suma o el producto) es importante el orden en que se indique la operación.\n",
        "\n",
        "Básicamente:\n",
        "\n",
        "$$ a**b := a^b $$"
      ]
    },
    {
      "cell_type": "code",
      "execution_count": 35,
      "metadata": {
        "colab": {
          "base_uri": "https://localhost:8080/"
        },
        "id": "kvRo8m8CPeYn",
        "outputId": "edb22336-8f16-4d73-9bc8-a99248007ed6"
      },
      "outputs": [
        {
          "data": {
            "text/plain": [
              "25"
            ]
          },
          "execution_count": 35,
          "metadata": {},
          "output_type": "execute_result"
        }
      ],
      "source": [
        "5**2"
      ]
    },
    {
      "cell_type": "markdown",
      "metadata": {
        "id": "nGEccsDLQjgz"
      },
      "source": [
        "La división la indicamos a través de `/` de la siguiente forma"
      ]
    },
    {
      "cell_type": "code",
      "execution_count": 36,
      "metadata": {
        "colab": {
          "base_uri": "https://localhost:8080/"
        },
        "id": "gyO_fNBNQrbz",
        "outputId": "5bf9fcfd-22a8-4321-a3f2-f39a021aada6"
      },
      "outputs": [
        {
          "name": "stdout",
          "output_type": "stream",
          "text": [
            "2.0\n",
            "2.0\n"
          ]
        }
      ],
      "source": [
        "a = 10\n",
        "b = 5\n",
        "c = a / b\n",
        "\n",
        "print(a / b)\n",
        "print(c)"
      ]
    },
    {
      "cell_type": "markdown",
      "metadata": {
        "id": "TdOL8pDE0zMV"
      },
      "source": [
        "Como buena práctica de programación, para comentar nuestras líneas de código usamos `#`, de modo que todo lo que le proceda al sìmbolo *gato* \"no será ejecutado\"."
      ]
    },
    {
      "cell_type": "code",
      "execution_count": 37,
      "metadata": {
        "colab": {
          "base_uri": "https://localhost:8080/"
        },
        "id": "PMR9nz9N04PD",
        "outputId": "e549419c-8c92-4b64-ba97-70c689ea8c57"
      },
      "outputs": [
        {
          "name": "stdout",
          "output_type": "stream",
          "text": [
            "12\n"
          ]
        }
      ],
      "source": [
        "a = 10\n",
        "b = 2\n",
        "\n",
        "print(a+b) # esto es un comentario"
      ]
    },
    {
      "cell_type": "markdown",
      "metadata": {
        "id": "5SN1UsEXRTEo"
      },
      "source": [
        "También podemos agregar múltiples comentarios, por ejemplo para indicar más de un comentario a modo de párrafo agregando tres comillas simples `'''` antes del primer comentario y tres comillas simples `'''` después del último comentario."
      ]
    },
    {
      "cell_type": "code",
      "execution_count": 38,
      "metadata": {
        "colab": {
          "base_uri": "https://localhost:8080/",
          "height": 36
        },
        "id": "3wB8jbqGRdk3",
        "outputId": "e95821d7-4f1a-4855-c3af-33cffc3d150f"
      },
      "outputs": [
        {
          "data": {
            "text/plain": [
              "'\\nEste es un comentario multilinea\\nPuedo escribir\\nTantas lineas como sean necesarias\\n'"
            ]
          },
          "execution_count": 38,
          "metadata": {},
          "output_type": "execute_result"
        }
      ],
      "source": [
        "'''\n",
        "Este es un comentario multilinea\n",
        "Puedo escribir\n",
        "Tantas lineas como sean necesarias\n",
        "'''"
      ]
    },
    {
      "cell_type": "markdown",
      "metadata": {
        "id": "uFads8xiVJ5k"
      },
      "source": [
        "Es común usar los comentarios multilínea para especificar partes de nuestro código, como la implementación de una clase, los parámetros de una función e incluso indicar comentarios importantes sobre el código en su totalidad."
      ]
    },
    {
      "cell_type": "code",
      "execution_count": 39,
      "metadata": {
        "colab": {
          "base_uri": "https://localhost:8080/",
          "height": 88
        },
        "id": "pwYqPHYqR17P",
        "outputId": "5cb7a8aa-f65e-48d1-ceae-65bc974eb4e8"
      },
      "outputs": [
        {
          "data": {
            "text/plain": [
              "'\\nEste codigo es una continuacion del curso de Python del curso de Métodos Cuantitativos en Finanzas.\\n\\n@author Luis Eduardo Pavon Tinoco (P)\\n_author_ = \"Christopher Alejandro Alarcon Ortega\"\\n_author_ = \"Abraham Gutierrez Barreto\"\\n\\n_since_ = \"XFC\"\\n_date_ = \"august 30, 2023 19:40\"\\n_version_ = \"1 -- 3\"\\n\\n_contact_ = \"christopher.alarcon@ciencias.unam.mx\"\\n\\n_status_ = \"Active\"\\n'"
            ]
          },
          "execution_count": 39,
          "metadata": {},
          "output_type": "execute_result"
        }
      ],
      "source": [
        "'''\n",
        "Este codigo es una continuacion del curso de Python del curso de Métodos Cuantitativos en Finanzas.\n",
        "\n",
        "@author Luis Eduardo Pavon Tinoco (P)\n",
        "_author_ = \"Christopher Alejandro Alarcon Ortega\"\n",
        "_author_ = \"Jonathan Peña Almonte\"\n",
        "\n",
        "_since_ = \"XFC\"\n",
        "_date_ = \"feb 19, 2025\"\n",
        "_version_ = \"1 -- 3\"\n",
        "\n",
        "_contact_ = \"jonathanpeal11@ciencias.unam.mx\"\n",
        "\n",
        "_status_ = \"Active\"\n",
        "'''"
      ]
    },
    {
      "cell_type": "markdown",
      "metadata": {
        "id": "0vA7cF9uUAZ1"
      },
      "source": [
        "## Otros tipos de datos"
      ]
    },
    {
      "cell_type": "markdown",
      "metadata": {
        "id": "UPRGs4xmXKAd"
      },
      "source": [
        "### Tipos de datos Cadena de Caracteres (String): `str`"
      ]
    },
    {
      "cell_type": "markdown",
      "metadata": {
        "id": "d9glnsciXakE"
      },
      "source": [
        "A diferencia de los tipos de datos que hemos visto hasta ahora, este tipo de datos nos permiten almacenar cadenas alfanuméricas. Por ejemplo:"
      ]
    },
    {
      "cell_type": "code",
      "execution_count": 40,
      "metadata": {
        "colab": {
          "base_uri": "https://localhost:8080/"
        },
        "id": "5yAskMEVXw7o",
        "outputId": "b7fce3d6-e30b-498f-a870-1f8156f1aa3f"
      },
      "outputs": [
        {
          "name": "stdout",
          "output_type": "stream",
          "text": [
            "Lo ultimo que le dijo fue: 'Ya mejor aquí la dejamos' \n",
            "<class 'str'>\n"
          ]
        }
      ],
      "source": [
        "saludo = \"Hola! Este es un saludo predeterminado\"\n",
        "nombre = \"Christopher Alarcon Ortega\"\n",
        "edad = '18'\n",
        "chisme = \"Lo ultimo que le dijo fue: 'Ya mejor aquí la dejamos' \"\n",
        "\n",
        "print(chisme)\n",
        "print(type(chisme))"
      ]
    },
    {
      "cell_type": "markdown",
      "metadata": {
        "id": "C7yF4vdnZGEZ"
      },
      "source": [
        "Dentro de este tipo de instancias, existe una operación llamada *Concatenación*, que básicamente me permite unir dos variables `str` en una sola, es una especie de \"suma\"."
      ]
    },
    {
      "cell_type": "code",
      "execution_count": 41,
      "metadata": {
        "colab": {
          "base_uri": "https://localhost:8080/"
        },
        "id": "G54x9wu0ZeRq",
        "outputId": "10f5244a-e453-4814-9684-0f829114e679"
      },
      "outputs": [
        {
          "name": "stdout",
          "output_type": "stream",
          "text": [
            "Hola, Chris. ¿Cómo estás?\n"
          ]
        }
      ],
      "source": [
        "saludo = \"Hola,\"\n",
        "pregunta = \"¿Cómo estás?\"\n",
        "nombre = \"Chris\"\n",
        "\n",
        "#print(saludo + nombre + pregunta)\n",
        "\n",
        "#print(saludo + \" \" + nombre + \" \" + pregunta)\n",
        "\n",
        "print(saludo + \" \" + nombre + \". ¿Cómo estás?\")"
      ]
    },
    {
      "cell_type": "code",
      "execution_count": 42,
      "metadata": {
        "colab": {
          "base_uri": "https://localhost:8080/"
        },
        "id": "mbIoB4tht_Ei",
        "outputId": "74fb11a9-9a3a-4f75-c74d-d21586467947"
      },
      "outputs": [
        {
          "data": {
            "text/plain": [
              "8"
            ]
          },
          "execution_count": 42,
          "metadata": {},
          "output_type": "execute_result"
        }
      ],
      "source": [
        "palabra = 'python 1'\n",
        "len(palabra)"
      ]
    },
    {
      "cell_type": "code",
      "execution_count": 43,
      "metadata": {
        "colab": {
          "base_uri": "https://localhost:8080/",
          "height": 36
        },
        "id": "6jkz3zqCt0TW",
        "outputId": "469c6171-ea4b-4bd2-c7bc-590112711397"
      },
      "outputs": [
        {
          "data": {
            "text/plain": [
              "'prueba prueba prueba '"
            ]
          },
          "execution_count": 43,
          "metadata": {},
          "output_type": "execute_result"
        }
      ],
      "source": [
        "palabra = 'prueba '\n",
        "palabra * 3"
      ]
    },
    {
      "cell_type": "markdown",
      "metadata": {
        "id": "lFbr9RZNh7-4"
      },
      "source": [
        "## Métodos de conversión de datos"
      ]
    },
    {
      "cell_type": "markdown",
      "metadata": {
        "id": "QML3FzFJiIAc"
      },
      "source": [
        "Imagina que tienes una variable edad de tipo  cuyo valor es '25'. Se podría decir que edad, aunque realmente es una cadena de caracteres, contiene un número. Sin embargo, si intentas sumar 10 a edad, el intérprete te dará un error porque edad es de tipo str y 10 un tipo numérico."
      ]
    },
    {
      "cell_type": "code",
      "execution_count": 44,
      "metadata": {
        "colab": {
          "base_uri": "https://localhost:8080/"
        },
        "id": "UBMUvCYwiWeS",
        "outputId": "cc6c9d17-fb7a-4b84-c8af-dd99ce5eb74e"
      },
      "outputs": [
        {
          "data": {
            "text/plain": [
              "20"
            ]
          },
          "execution_count": 44,
          "metadata": {},
          "output_type": "execute_result"
        }
      ],
      "source": [
        "edad = 10\n",
        "edad = edad + 10\n",
        "edad"
      ]
    },
    {
      "cell_type": "markdown",
      "metadata": {
        "id": "EJNlYephjH71"
      },
      "source": [
        "La solución natural sería modificar desde nuestro código la variable edad de tipo `str` por su versión `int`. No obstante, Python nos ofrece una muy sencilla solución a este tipo de problemas con los princiaples tipos de datos que hemos revisado hasta el momento:\n",
        "\n",
        "\n",
        "1.   `int()`: Devuelve la representación `int` del objeto que demos como parámetros, que puede ser un número flotante o una cadena de caracteres.\n",
        "2.   `str()`: Devuelve la representación en cadena de caracteres del objeto que se pasa como parámetro.\n",
        "3.   `float()`: Devuelve la representación `float` del objeto que demos como parámetro.\n",
        "4.   `complex()`: Devuelve la representación `complex` del objeto que demos como parámetro.\n"
      ]
    },
    {
      "cell_type": "code",
      "execution_count": 2,
      "metadata": {
        "colab": {
          "base_uri": "https://localhost:8080/"
        },
        "id": "0jcXjn7MkT5Q",
        "outputId": "a4a3d110-5129-4889-d387-2dc50a4ed67c"
      },
      "outputs": [
        {
          "name": "stdout",
          "output_type": "stream",
          "text": [
            "15\n",
            "Carlos tiene 15 años\n"
          ]
        }
      ],
      "source": [
        "edad = '10'\n",
        "edad = int(edad) + 5\n",
        "\n",
        "print(edad)\n",
        "print(\"Carlos tiene \" + str(edad) + \" años\")"
      ]
    },
    {
      "cell_type": "markdown",
      "metadata": {},
      "source": [
        "Aunq eu si volvemos a la variable edad parte del texto solo es necesario llamarla para que se imprima como un string."
      ]
    },
    {
      "cell_type": "code",
      "execution_count": 4,
      "metadata": {},
      "outputs": [
        {
          "name": "stdout",
          "output_type": "stream",
          "text": [
            "Carlos tiene 15 años\n"
          ]
        }
      ],
      "source": [
        "print(f\"Carlos tiene {edad} años\")"
      ]
    },
    {
      "cell_type": "code",
      "execution_count": 46,
      "metadata": {
        "colab": {
          "base_uri": "https://localhost:8080/"
        },
        "id": "0nfJC7V4kwvU",
        "outputId": "759060c6-4653-4b58-85e0-d4de36ca4d33"
      },
      "outputs": [
        {
          "name": "stdout",
          "output_type": "stream",
          "text": [
            "<class 'float'>\n"
          ]
        }
      ],
      "source": [
        "edad = 15\n",
        "edad = float(edad)\n",
        "print(type(edad))"
      ]
    },
    {
      "cell_type": "code",
      "execution_count": 47,
      "metadata": {
        "colab": {
          "base_uri": "https://localhost:8080/",
          "height": 192
        },
        "id": "FFVdxxW9lEwE",
        "outputId": "690a6d8c-8ec1-4bf3-a76d-6ba55ce86fb5"
      },
      "outputs": [
        {
          "ename": "ValueError",
          "evalue": "could not convert string to float: 'Hola!'",
          "output_type": "error",
          "traceback": [
            "\u001b[0;31m---------------------------------------------------------------------------\u001b[0m",
            "\u001b[0;31mValueError\u001b[0m                                Traceback (most recent call last)",
            "Cell \u001b[0;32mIn[47], line 2\u001b[0m\n\u001b[1;32m      1\u001b[0m saludo \u001b[38;5;241m=\u001b[39m \u001b[38;5;124m\"\u001b[39m\u001b[38;5;124mHola!\u001b[39m\u001b[38;5;124m\"\u001b[39m\n\u001b[0;32m----> 2\u001b[0m saludo \u001b[38;5;241m=\u001b[39m \u001b[38;5;28mfloat\u001b[39m(saludo)\n",
            "\u001b[0;31mValueError\u001b[0m: could not convert string to float: 'Hola!'"
          ]
        }
      ],
      "source": [
        "saludo = \"Hola!\"\n",
        "saludo = float(saludo)"
      ]
    },
    {
      "cell_type": "markdown",
      "metadata": {
        "id": "v7mSvNLJ1oCt"
      },
      "source": [
        "## Importar librerías\n",
        "Una característica importante de Python como ecosistema, en comparación con otro lenguaje de programación, es la disponibilidad de una gran cantidad de bibliotecas y herramientas.\n",
        "\n",
        "Estas bibliotecas y herramientas generalmente deben **importarse** cuando de necesiten (por ejemplo, una biblioteca de trazado). *Importar* `import` significa hacer que una biblioteca esté disponible para el espacio de nombres actual y el proceso de interpretación de Python actual.\n",
        "\n",
        "Python en sí ya viene con un gran conjunto de bibliotecas que mejoran el intérprete básico en diferentes direcciones. Por ejemplo, cálculos matemáticos básicos, mientras que requiere operaciones (digamos) funciones matemáticas más complejas deben importarse a través de la biblioteca `math`. Cuando se inicia un programa de Python, solo tiene acceso a funciones y clases básicas.\n",
        "(\"int\", \"dict\", \"len\", \"sum\", \"range\", ...)"
      ]
    },
    {
      "cell_type": "code",
      "execution_count": 49,
      "metadata": {
        "id": "RQbk-G7o1qcV"
      },
      "outputs": [],
      "source": [
        "import numpy # numerical library and manipulating arrays - flagship\n",
        "import pandas # panel data - series and dataframes - also flagship\n",
        "import matplotlib # graphics library\n",
        "import scipy # scientific python"
      ]
    },
    {
      "cell_type": "markdown",
      "metadata": {
        "id": "HUcEVZy61t-J"
      },
      "source": [
        "Después de usar cualquier módulo, si ya no lo vamos a ocupar más se borra con la palabra `del`"
      ]
    },
    {
      "cell_type": "code",
      "execution_count": 51,
      "metadata": {
        "colab": {
          "base_uri": "https://localhost:8080/"
        },
        "id": "M7lCw5EY1vbc",
        "outputId": "29834fc3-6d8a-49ec-a6b1-d927112e6b38"
      },
      "outputs": [
        {
          "data": {
            "text/plain": [
              "['In',\n",
              " 'Out',\n",
              " '_',\n",
              " '_11',\n",
              " '_14',\n",
              " '_15',\n",
              " '_18',\n",
              " '_19',\n",
              " '_20',\n",
              " '_28',\n",
              " '_35',\n",
              " '_38',\n",
              " '_39',\n",
              " '_4',\n",
              " '_42',\n",
              " '_43',\n",
              " '_44',\n",
              " '__',\n",
              " '___',\n",
              " '__builtin__',\n",
              " '__builtins__',\n",
              " '__doc__',\n",
              " '__loader__',\n",
              " '__name__',\n",
              " '__package__',\n",
              " '__spec__',\n",
              " '__vsc_ipynb_file__',\n",
              " '_dh',\n",
              " '_exit_code',\n",
              " '_i',\n",
              " '_i1',\n",
              " '_i10',\n",
              " '_i11',\n",
              " '_i12',\n",
              " '_i13',\n",
              " '_i14',\n",
              " '_i15',\n",
              " '_i16',\n",
              " '_i17',\n",
              " '_i18',\n",
              " '_i19',\n",
              " '_i2',\n",
              " '_i20',\n",
              " '_i21',\n",
              " '_i22',\n",
              " '_i23',\n",
              " '_i24',\n",
              " '_i25',\n",
              " '_i26',\n",
              " '_i27',\n",
              " '_i28',\n",
              " '_i29',\n",
              " '_i3',\n",
              " '_i30',\n",
              " '_i31',\n",
              " '_i32',\n",
              " '_i33',\n",
              " '_i34',\n",
              " '_i35',\n",
              " '_i36',\n",
              " '_i37',\n",
              " '_i38',\n",
              " '_i39',\n",
              " '_i4',\n",
              " '_i40',\n",
              " '_i41',\n",
              " '_i42',\n",
              " '_i43',\n",
              " '_i44',\n",
              " '_i45',\n",
              " '_i46',\n",
              " '_i47',\n",
              " '_i48',\n",
              " '_i49',\n",
              " '_i5',\n",
              " '_i50',\n",
              " '_i51',\n",
              " '_i6',\n",
              " '_i7',\n",
              " '_i8',\n",
              " '_i9',\n",
              " '_ih',\n",
              " '_ii',\n",
              " '_iii',\n",
              " '_oh',\n",
              " 'a',\n",
              " 'b',\n",
              " 'c',\n",
              " 'chisme',\n",
              " 'd',\n",
              " 'e',\n",
              " 'edad',\n",
              " 'exit',\n",
              " 'get_ipython',\n",
              " 'matplotlib',\n",
              " 'nombre',\n",
              " 'numpy',\n",
              " 'open',\n",
              " 'palabra',\n",
              " 'pandas',\n",
              " 'pregunta',\n",
              " 'quit',\n",
              " 'saludo',\n",
              " 'w',\n",
              " 'z']"
            ]
          },
          "execution_count": 51,
          "metadata": {},
          "output_type": "execute_result"
        }
      ],
      "source": [
        "del scipy \n",
        "dir()"
      ]
    },
    {
      "cell_type": "markdown",
      "metadata": {
        "id": "wGt3LAtW1zA0"
      },
      "source": [
        "Se recomienda altamente usar la notación de objetos. Esa práctica le permite al programador tener mayor control y hacer más legible el código. Como ejemplo tenemos el módulo `numpy` y sar el objeto '`np` que se ve como sigue:"
      ]
    },
    {
      "cell_type": "code",
      "execution_count": 52,
      "metadata": {
        "id": "AJD3SLf510zn"
      },
      "outputs": [],
      "source": [
        "import numpy as np"
      ]
    },
    {
      "cell_type": "markdown",
      "metadata": {
        "id": "FNCTrupy1AW5"
      },
      "source": [
        "## Keywords\n",
        "\n",
        "Las *keywords* son caracteres especiales que no pueden ser usados para darle nombre a una variable, ya que ellas tienen una implementación interna"
      ]
    },
    {
      "cell_type": "code",
      "execution_count": 53,
      "metadata": {
        "colab": {
          "base_uri": "https://localhost:8080/"
        },
        "id": "E7UFRsZotWjw",
        "outputId": "863ec222-7d98-4464-9f4b-ed9ec9cfc2f4"
      },
      "outputs": [
        {
          "name": "stdout",
          "output_type": "stream",
          "text": [
            "['False', 'None', 'True', 'and', 'as', 'assert', 'async', 'await', 'break', 'class', 'continue', 'def', 'del', 'elif', 'else', 'except', 'finally', 'for', 'from', 'global', 'if', 'import', 'in', 'is', 'lambda', 'nonlocal', 'not', 'or', 'pass', 'raise', 'return', 'try', 'while', 'with', 'yield']\n"
          ]
        }
      ],
      "source": [
        "import keyword\n",
        "print(keyword.kwlist)"
      ]
    },
    {
      "cell_type": "code",
      "execution_count": 54,
      "metadata": {
        "colab": {
          "base_uri": "https://localhost:8080/",
          "height": 140
        },
        "id": "bM5JX4k4tWo0",
        "outputId": "56918626-e54c-4266-ae21-e00cbba21e63"
      },
      "outputs": [
        {
          "ename": "SyntaxError",
          "evalue": "cannot assign to False (2005507881.py, line 1)",
          "output_type": "error",
          "traceback": [
            "\u001b[0;36m  Cell \u001b[0;32mIn[54], line 1\u001b[0;36m\u001b[0m\n\u001b[0;31m    False = 10\u001b[0m\n\u001b[0m    ^\u001b[0m\n\u001b[0;31mSyntaxError\u001b[0m\u001b[0;31m:\u001b[0m cannot assign to False\n"
          ]
        }
      ],
      "source": [
        "False = 10"
      ]
    },
    {
      "cell_type": "markdown",
      "metadata": {
        "id": "KK-uDCoLu4kZ"
      },
      "source": [
        "## Listas, tuplas e índices\n",
        "\n",
        "Al programar, vamos a querer usar objetos que guarden múltiples variables como arreglos (piensa en la series de tiempo financieras). Las **listas** y las **tuplas** te permiten hacer eso."
      ]
    },
    {
      "cell_type": "code",
      "execution_count": 6,
      "metadata": {
        "id": "IGjzqGGvvKOp"
      },
      "outputs": [],
      "source": [
        "mi_lista = [3,1,4,1,6] #Las listas (vectores) usan corchetes []\n",
        "\n",
        "mi_tupla = (3,1,4,1,6) #Las tuplas usan corchetes ()"
      ]
    },
    {
      "cell_type": "markdown",
      "metadata": {
        "id": "UhwA_8mwvkIX"
      },
      "source": [
        "Para acceder al los elementos de la lista o la tupla usamos su índice, notando que la indexación empieza en 0."
      ]
    },
    {
      "cell_type": "code",
      "execution_count": 7,
      "metadata": {
        "colab": {
          "base_uri": "https://localhost:8080/"
        },
        "id": "1xkmcYNavl_j",
        "outputId": "def11398-3cdf-4f73-885b-43d567b82bf7"
      },
      "outputs": [
        {
          "name": "stdout",
          "output_type": "stream",
          "text": [
            "El primer elemento de mi lista es 3\n",
            "El segundo elemento es 1\n",
            "El último elemento de mi tupla es 6\n",
            "El penúltimo elemento es 1\n"
          ]
        }
      ],
      "source": [
        "print(\"El primer elemento de mi lista es\", mi_lista[0])\n",
        "print(\"El segundo elemento es\", mi_lista[1])\n",
        "print(\"El último elemento de mi tupla es\", mi_tupla[-1])\n",
        "print(\"El penúltimo elemento es\", mi_tupla[-2])"
      ]
    },
    {
      "cell_type": "markdown",
      "metadata": {
        "id": "g1VerKo8vqgb"
      },
      "source": [
        "La forma de *indexar* los elementos de una lista, tupla o cadena de elementos cualquiera (por ejemplo, la cadena $\\mathbb{C}1\\varepsilon(\\eta)ci\\alpha\\int$ ) en Python es iniciando con el cero y sumando uno por cada elemento al indizar de izquierda a derecha, o iniciando con el -1 y sumándole -1 a cada elemento si se indiza de derecha a izquierda.\n",
        "\n",
        "<img src=\"IMAGEN1.png\" style=\"width:1000px\">\n",
        "\n",
        "Para acceder a una secuencia de más de un elemento de la lista o tupla hacemos lo siguiente:\n",
        "\n",
        "`[ primer_indice : ultimo_indice+1 ]`\n",
        "\n",
        "o también podemos obtener todos los elementos entre dos índices cada *n* pasos\n",
        "\n",
        "`[ primer_indice : ultimo_indice+1 : numero_de_pasos ]`"
      ]
    },
    {
      "cell_type": "code",
      "execution_count": 8,
      "metadata": {
        "colab": {
          "base_uri": "https://localhost:8080/"
        },
        "id": "S13iQUDsSdVN",
        "outputId": "74aa6199-5af0-4d9e-e793-fd6f6763471d"
      },
      "outputs": [
        {
          "data": {
            "text/plain": [
              "[3, 1, 4, 1, 6]"
            ]
          },
          "execution_count": 8,
          "metadata": {},
          "output_type": "execute_result"
        }
      ],
      "source": [
        "mi_lista"
      ]
    },
    {
      "cell_type": "code",
      "execution_count": 9,
      "metadata": {
        "colab": {
          "base_uri": "https://localhost:8080/"
        },
        "id": "xEontd_OxoYd",
        "outputId": "d0c24f66-4082-4603-c575-fab723b41537"
      },
      "outputs": [
        {
          "name": "stdout",
          "output_type": "stream",
          "text": [
            "Los primeros dos elementos de mi lista son [3, 1]\n",
            "También, los primeros dos elementos de mi lista son [1, 4, 1, 6]\n",
            "Los últimos dos elementos de mi lista son [3, 1, 4]\n",
            "Los cinco primeros elementos de mi lista pero cada 2 pasos (uno sí y uno no) son [3, 4, 6]\n"
          ]
        },
        {
          "data": {
            "text/plain": [
              "[3, 1, 4, 1, 6]"
            ]
          },
          "execution_count": 9,
          "metadata": {},
          "output_type": "execute_result"
        }
      ],
      "source": [
        "print(\"Los primeros dos elementos de mi lista son\", mi_lista[0:2])\n",
        "print(\"También, los primeros dos elementos de mi lista son\", mi_lista[1:])\n",
        "\n",
        "print(\"Los últimos dos elementos de mi lista son\", mi_lista[:-2])\n",
        "print(\"Los cinco primeros elementos de mi lista pero cada 2 pasos (uno sí y uno no) son\",  mi_lista[0:5:2])\n",
        "mi_lista"
      ]
    },
    {
      "cell_type": "code",
      "execution_count": 10,
      "metadata": {
        "colab": {
          "base_uri": "https://localhost:8080/"
        },
        "id": "xWJ_R4aOyAuI",
        "outputId": "b45bcccb-9f07-4083-c6a5-7d5f58ddcca0"
      },
      "outputs": [
        {
          "name": "stdout",
          "output_type": "stream",
          "text": [
            "El primer elemento es <class 'int'>\n",
            "El segundo elemento es <class 'bool'>\n",
            "El tercer elemento es  <class 'float'>\n"
          ]
        }
      ],
      "source": [
        "mi_otra_lista = [100 , True , 3.1416]\n",
        "print(\"El primer elemento es\", type(mi_otra_lista[0]))\n",
        "print(\"El segundo elemento es\", type(mi_otra_lista[1]))\n",
        "print(\"El tercer elemento es \", type(mi_otra_lista[2]))"
      ]
    },
    {
      "cell_type": "markdown",
      "metadata": {
        "id": "KL5HR7uMyC0y"
      },
      "source": [
        "La diferencia entre una lista y una tupla es que **las listas son instancias mutables** mientras que las tupplas no.\n",
        "\n",
        "Es decir, *una vez que creas una tupla no puedes modificar ese objeto*, por el contrario, una lista sí puede ser modificada incluso después de haber sido creada.\n",
        "\n",
        "En otras palabras, podemos modificar el valor de los elementos de una lista, e incluso añadir y/o quitar elementos."
      ]
    },
    {
      "cell_type": "code",
      "execution_count": 11,
      "metadata": {
        "colab": {
          "base_uri": "https://localhost:8080/"
        },
        "id": "o1dT6sMu1lvP",
        "outputId": "b68c0967-df5c-4f56-a1c4-a5f6782dc719"
      },
      "outputs": [
        {
          "data": {
            "text/plain": [
              "[3, 1, 4, 1, 6]"
            ]
          },
          "execution_count": 11,
          "metadata": {},
          "output_type": "execute_result"
        }
      ],
      "source": [
        "mi_lista"
      ]
    },
    {
      "cell_type": "code",
      "execution_count": 12,
      "metadata": {
        "colab": {
          "base_uri": "https://localhost:8080/"
        },
        "id": "tND1MjiKCl9N",
        "outputId": "72699b90-5d35-4d83-91b2-2d70b823feab"
      },
      "outputs": [
        {
          "data": {
            "text/plain": [
              "[5, 1, 4, 1, 6]"
            ]
          },
          "execution_count": 12,
          "metadata": {},
          "output_type": "execute_result"
        }
      ],
      "source": [
        "mi_lista[0] = 5\n",
        "mi_lista"
      ]
    },
    {
      "cell_type": "markdown",
      "metadata": {
        "id": "ljHpYS_x1pNv"
      },
      "source": [
        "Para quitar elementos de una lista usamos el método **.remove()**.\n",
        "El argumento de este métodos es el índice del elemento que deseamos quitar de nuestra lista."
      ]
    },
    {
      "cell_type": "code",
      "execution_count": 13,
      "metadata": {
        "colab": {
          "base_uri": "https://localhost:8080/"
        },
        "id": "_TfOmsid1n8y",
        "outputId": "2cb12be6-def7-4770-851f-bc504dc86203"
      },
      "outputs": [
        {
          "name": "stdout",
          "output_type": "stream",
          "text": [
            "[5, 1, 4, 1]\n"
          ]
        }
      ],
      "source": [
        "mi_lista.remove(6) # Como argumento el elemento que queremos borrar\n",
        "print(mi_lista)"
      ]
    },
    {
      "cell_type": "markdown",
      "metadata": {
        "id": "1Y2vP05Y2XG2"
      },
      "source": [
        "Para añadir elementos a una lista usamos el método **.append()**. Notar que este método añade un elemento al final de la lista (en el índice -1) y recibe como parámetro el elemento a añadir."
      ]
    },
    {
      "cell_type": "code",
      "execution_count": 64,
      "metadata": {
        "colab": {
          "base_uri": "https://localhost:8080/"
        },
        "id": "vHX9d_tL2lq4",
        "outputId": "52a6a3be-115b-47cf-e950-08e47ae1ff94"
      },
      "outputs": [
        {
          "name": "stdout",
          "output_type": "stream",
          "text": [
            "[5, 1, 4, 1, 6, 5]\n"
          ]
        }
      ],
      "source": [
        "mi_lista.append(5) # Como argumento el elemento que queremos añadir\n",
        "print(mi_lista)"
      ]
    },
    {
      "cell_type": "markdown",
      "metadata": {
        "id": "ZC_9BPqw2qE_"
      },
      "source": [
        "Para añadir elementos a una lista, indicando el índice en donde queremos sea almacenado, usamos el método **.insert()**.\n",
        "Este método recibe dos parámetros. El primer parámetro corresponde el índice y el segundo al elemento a añadir."
      ]
    },
    {
      "cell_type": "code",
      "execution_count": 65,
      "metadata": {
        "colab": {
          "base_uri": "https://localhost:8080/"
        },
        "id": "Xcbj2cDz2VlV",
        "outputId": "255695b2-10e9-4a51-e78b-0c70d7a7fa3e"
      },
      "outputs": [
        {
          "name": "stdout",
          "output_type": "stream",
          "text": [
            "[5, 1, 9, 4, 1, 6, 5]\n"
          ]
        }
      ],
      "source": [
        "mi_lista.insert(2,9) # Primer argumento el índice y el segundo argumento el elemento a añadir\n",
        "print(mi_lista)"
      ]
    },
    {
      "cell_type": "markdown",
      "metadata": {
        "id": "42UoDRTs3Lhi"
      },
      "source": [
        "Otros métodos de listas en Python:\n",
        "\n",
        "\n",
        "1.   `.reverse()`: nos devuelve una lista \"en reversa\", es decir con los elementos indexados empezando por el último y de forma\n",
        "2.   `.extend()`: nos permite unir dos listas en una sola lista\n",
        "3.   `.count()`: cuenta el número de veces que aparece un elemento en una lista\n",
        "4.  `.index()`: nos indica el primer índice en donde aparece un elemento en una lista.\n",
        "5.  `.remove()`: borra el primer elemento de una lista que coincida con un valor que nosotros especificamos.\n",
        "6.  `.sort()`: ordena los elementos de una lista de menor a mayor. El parámetro opcional `reverse`nos permite idicar si es de forma ascendente o descendente.\n",
        "7.  `.clear()`: vacía todos los elementos de una lista.\n",
        "\n"
      ]
    },
    {
      "cell_type": "code",
      "execution_count": 66,
      "metadata": {
        "colab": {
          "base_uri": "https://localhost:8080/"
        },
        "id": "kefN4pOhGfZD",
        "outputId": "1479c7e1-bc32-47b3-86d9-4f2b4966bad3"
      },
      "outputs": [
        {
          "name": "stdout",
          "output_type": "stream",
          "text": [
            "[9, 5, 6, 1, 4, 3]\n"
          ]
        }
      ],
      "source": [
        "mi_lista = [3, 4, 1, 6, 5, 9]\n",
        "\n",
        "mi_lista.reverse()\n",
        "print(mi_lista)"
      ]
    },
    {
      "cell_type": "code",
      "execution_count": 67,
      "metadata": {
        "colab": {
          "base_uri": "https://localhost:8080/"
        },
        "id": "Uo3n9tck6fCd",
        "outputId": "ca09faa4-0c2d-4d56-d7d8-968bde15eb4f"
      },
      "outputs": [
        {
          "name": "stdout",
          "output_type": "stream",
          "text": [
            "[3, True, 'Variable', 6, 'MCF', 9, 8, 2, 4, 1]\n"
          ]
        }
      ],
      "source": [
        "mi_lista = [3, True, \"Variable\", 6, \"MCF\", 9]\n",
        "lista = [8,2,4,1]\n",
        "mi_lista.extend(lista)\n",
        "\n",
        "print(mi_lista)"
      ]
    },
    {
      "cell_type": "code",
      "execution_count": 68,
      "metadata": {
        "colab": {
          "base_uri": "https://localhost:8080/"
        },
        "id": "e6r3aW_pGshD",
        "outputId": "3b62be00-93bf-4128-f99b-43a588077367"
      },
      "outputs": [
        {
          "data": {
            "text/plain": [
              "2"
            ]
          },
          "execution_count": 68,
          "metadata": {},
          "output_type": "execute_result"
        }
      ],
      "source": [
        "mi_lista = [3, \"29\", True, \"Variable\", 6, \"MCF\", True]\n",
        "\n",
        "mi_lista.count(True)"
      ]
    },
    {
      "cell_type": "code",
      "execution_count": 69,
      "metadata": {
        "colab": {
          "base_uri": "https://localhost:8080/"
        },
        "id": "9XQK5hEMHPg7",
        "outputId": "9f5d7891-3d3f-4a5b-fca9-2832efead6b9"
      },
      "outputs": [
        {
          "data": {
            "text/plain": [
              "2"
            ]
          },
          "execution_count": 69,
          "metadata": {},
          "output_type": "execute_result"
        }
      ],
      "source": [
        "mi_lista = [3, \"29\", True, \"Variable\", 6, \"MCF\", True]\n",
        "\n",
        "mi_lista.index(True)"
      ]
    },
    {
      "cell_type": "code",
      "execution_count": 70,
      "metadata": {
        "colab": {
          "base_uri": "https://localhost:8080/"
        },
        "id": "9uc_Gbp7HhiM",
        "outputId": "e876aec3-ee39-4210-8818-817a22568948"
      },
      "outputs": [
        {
          "name": "stdout",
          "output_type": "stream",
          "text": [
            "[3, '29', True, 6, 'MCF', True, 'Variable']\n"
          ]
        }
      ],
      "source": [
        "mi_lista = [3, \"29\", True, \"Variable\", 6, \"MCF\", True, \"Variable\"]\n",
        "\n",
        "mi_lista.remove(\"Variable\")\n",
        "print(mi_lista)"
      ]
    },
    {
      "cell_type": "code",
      "execution_count": 71,
      "metadata": {
        "colab": {
          "base_uri": "https://localhost:8080/"
        },
        "id": "SBHLt9oqIO0R",
        "outputId": "622a3d9d-5e25-4a3f-9179-0b0283b1a825"
      },
      "outputs": [
        {
          "name": "stdout",
          "output_type": "stream",
          "text": [
            "[-28, -12, -10, 3, 8, 11, 29, 100]\n"
          ]
        }
      ],
      "source": [
        "mi_lista = [3, 29, -10, 11, 8, -28, -12, 100]\n",
        "\n",
        "mi_lista.sort()\n",
        "print(mi_lista)"
      ]
    },
    {
      "cell_type": "code",
      "execution_count": 72,
      "metadata": {
        "colab": {
          "base_uri": "https://localhost:8080/"
        },
        "id": "IyITeSjcI0G_",
        "outputId": "ba189b4f-4b63-4aaf-ac29-735493757143"
      },
      "outputs": [
        {
          "name": "stdout",
          "output_type": "stream",
          "text": [
            "[100, 29, 11, 8, 3, -10, -12, -28]\n"
          ]
        }
      ],
      "source": [
        "mi_lista.sort(reverse=True)\n",
        "print(mi_lista)"
      ]
    },
    {
      "cell_type": "code",
      "execution_count": 73,
      "metadata": {
        "colab": {
          "base_uri": "https://localhost:8080/"
        },
        "id": "00wDfq2U6Lsc",
        "outputId": "9184b534-a138-4578-981c-074ec747e7e1"
      },
      "outputs": [
        {
          "name": "stdout",
          "output_type": "stream",
          "text": [
            "[]\n"
          ]
        }
      ],
      "source": [
        "mi_lista.clear()\n",
        "print(mi_lista)"
      ]
    },
    {
      "cell_type": "markdown",
      "metadata": {
        "id": "8c1kNjhgJPhT"
      },
      "source": [
        "<br><font color = #3F6E9A size=5> NOTA </font> Cuando hacemos una copia de una lista, lo que cambiamos en una, se cambia en las dos"
      ]
    },
    {
      "cell_type": "code",
      "execution_count": 74,
      "metadata": {
        "colab": {
          "base_uri": "https://localhost:8080/"
        },
        "id": "iD8RRo69JFf0",
        "outputId": "eac84cab-25a1-47e9-ce03-21c4a996aa5c"
      },
      "outputs": [
        {
          "name": "stdout",
          "output_type": "stream",
          "text": [
            "[10, 9, 7]\n",
            "[10, 9, 7]\n"
          ]
        }
      ],
      "source": [
        "mi_lista = [8,9,7]\n",
        "mi_copia = mi_lista\n",
        "mi_copia[0] = 10\n",
        "print(mi_copia)\n",
        "print(mi_lista)"
      ]
    },
    {
      "cell_type": "markdown",
      "metadata": {
        "id": "30xfL18FJUb9"
      },
      "source": [
        "Para solucionar esto, podemos hacer uso de la librería `copy`e implementar la siguiente función"
      ]
    },
    {
      "cell_type": "code",
      "execution_count": 75,
      "metadata": {
        "colab": {
          "base_uri": "https://localhost:8080/"
        },
        "id": "ud5-LTjmJbqh",
        "outputId": "49737b67-43c5-45fe-e665-100a5bd34346"
      },
      "outputs": [
        {
          "name": "stdout",
          "output_type": "stream",
          "text": [
            "[8, 9, 6]\n",
            "[8, 9, 7]\n"
          ]
        }
      ],
      "source": [
        "import copy\n",
        "\n",
        "mi_lista = [8,9,7]\n",
        "mi_copia = copy.deepcopy(mi_lista)\n",
        "mi_copia[2] = 6\n",
        "print(mi_copia)\n",
        "print(mi_lista)"
      ]
    },
    {
      "cell_type": "markdown",
      "metadata": {
        "id": "7qSX03DPNDnH"
      },
      "source": [
        "## Sentencias Condicionales\n",
        "\n",
        "Las sentencias condicionales nos permiten realizar una operación o secuencia de código siempre que una condición se cumpla (o no).\n",
        "\n",
        "Típicamente, las operaciones que verificamos a modo de condicionales son `<, >, ==, !=`"
      ]
    },
    {
      "cell_type": "markdown",
      "metadata": {
        "id": "TiZjCZVbn-Vb"
      },
      "source": [
        "La primer sentencia condicional es `if`. Esta sentencia realiza la siguiente verificación:\n",
        "\n",
        "\n",
        "```\n",
        "if condicion :\n",
        "  el bloque se ejecuta\n",
        "  ...\n",
        "  ...\n",
        "codigo\n",
        "```\n"
      ]
    },
    {
      "cell_type": "markdown",
      "metadata": {
        "id": "oJw2YDASqANW"
      },
      "source": [
        "También tenemos una sentencia `if-else` que nos permite tener una opción alternativa en caso de que la condición del `if` sea falsa.\n",
        "\n",
        "En contraste con el condicional `if`, `if-else` siempre se ejecuta."
      ]
    },
    {
      "cell_type": "code",
      "execution_count": 76,
      "metadata": {
        "colab": {
          "base_uri": "https://localhost:8080/"
        },
        "id": "NOwyZrmtNR4R",
        "outputId": "bb154878-94f0-48ac-d987-b67f797e04e0"
      },
      "outputs": [
        {
          "name": "stdout",
          "output_type": "stream",
          "text": [
            "La variable 'a' es mayor que 5\n"
          ]
        }
      ],
      "source": [
        "a = 10\n",
        "\n",
        "if a > 5:\n",
        "    print(\"La variable 'a' es mayor que 5\")\n",
        "else:\n",
        "    print(\"La variable 'a' es menor o igual que 5\")"
      ]
    },
    {
      "cell_type": "code",
      "execution_count": 77,
      "metadata": {
        "colab": {
          "base_uri": "https://localhost:8080/"
        },
        "id": "cjfyFr-bor_V",
        "outputId": "737b333a-0bf2-4e74-bf73-4762d8067999"
      },
      "outputs": [
        {
          "name": "stdout",
          "output_type": "stream",
          "text": [
            "El numero  7 es un número impar\n"
          ]
        }
      ],
      "source": [
        "a = 7\n",
        "\n",
        "if a % 2 == 0:\n",
        "    print(\"El numero \", a , \" es un numero par\")\n",
        "else:\n",
        "    print(\"El numero \", a , \"es un número impar\")"
      ]
    },
    {
      "cell_type": "markdown",
      "metadata": {
        "id": "q9SLij4apZjM"
      },
      "source": [
        "También nos puede surgir el caso en el que queramos realizar distintas acciones según el valor de una variable.\n",
        "Para solucionar esto podemos usar la sentencia `elif` todas las veces que necesitemos después de una sentencia `if`."
      ]
    },
    {
      "cell_type": "code",
      "execution_count": 78,
      "metadata": {
        "id": "o5QosNcmpEVs"
      },
      "outputs": [
        {
          "name": "stdout",
          "output_type": "stream",
          "text": [
            "Comando inválido\n"
          ]
        }
      ],
      "source": [
        "command = input()\n",
        "\n",
        "if command == 'a':\n",
        "    print('Acciones del comando a')\n",
        "elif command == 'b':\n",
        "    print('Acciones del comando b')\n",
        "elif command == 'c':\n",
        "    print('Acciones del comando c')\n",
        "else:\n",
        "    print('Comando inválido')\n"
      ]
    },
    {
      "cell_type": "markdown",
      "metadata": {
        "id": "gAVCM9Zzqcn-"
      },
      "source": [
        "También podemos tener sentencias `if-else` dentro de otras sentencias `if-else`"
      ]
    },
    {
      "cell_type": "code",
      "execution_count": 79,
      "metadata": {
        "colab": {
          "base_uri": "https://localhost:8080/"
        },
        "id": "IbMrMBM4orhs",
        "outputId": "9e636a70-de8a-4c42-bde5-100b7b3a25ed"
      },
      "outputs": [
        {
          "name": "stdout",
          "output_type": "stream",
          "text": [
            "Este número es par y es mayor que 10\n"
          ]
        }
      ],
      "source": [
        "x = 34\n",
        "if x %  2 == 0:\n",
        "  if x > 10:\n",
        "    print(\"Este número es par y es mayor que 10\")\n",
        "  else:\n",
        "    print(\"Este número es par, pero no mayor 10\")\n",
        "else:\n",
        "  print (\"El número no es par. Así que punto de verificación más.\")"
      ]
    },
    {
      "cell_type": "markdown",
      "metadata": {
        "id": "_I5U8BCFJfL1"
      },
      "source": [
        "## Ciclos o Bucles\n",
        "\n",
        "Los *ciclos* son operaciones fundamentales en programación. Nos permiten iterar una o varias líneas de código teniendo las veces que nosotros así lo deseemos.\n",
        "\n",
        "El ejemplo siguiente es un ciclo sobre un arreglo.\n",
        "\n",
        "En este contexto, la *identación*  nos permite conocer los límites y alcances de nuestro ciclo."
      ]
    },
    {
      "cell_type": "code",
      "execution_count": 80,
      "metadata": {
        "colab": {
          "base_uri": "https://localhost:8080/"
        },
        "id": "Ia3-jba9JekA",
        "outputId": "7a2bcf16-1d3b-48e2-aa9f-a41b43b1bcc8"
      },
      "outputs": [
        {
          "name": "stdout",
          "output_type": "stream",
          "text": [
            "Número de ciclo 0\n",
            "Número de ciclo 1\n",
            "Número de ciclo 2\n",
            "Número de ciclo 3\n",
            "Número de ciclo 4\n",
            "Número de ciclo 5\n",
            "Número de ciclo 6\n",
            "Número de ciclo 7\n",
            "Número de ciclo 8\n",
            "Número de ciclo 9\n"
          ]
        }
      ],
      "source": [
        "for i in range(10):\n",
        "    print(\"Número de ciclo\", i)\n",
        "\n",
        "#print(\"-------\")\n",
        "#print(\"Siempre iniciará en 0!!!\")"
      ]
    },
    {
      "cell_type": "code",
      "execution_count": 81,
      "metadata": {
        "colab": {
          "base_uri": "https://localhost:8080/"
        },
        "id": "Ui8tRWqiKA2C",
        "outputId": "5e7499c0-7374-4a43-e4e9-31d5722b29af"
      },
      "outputs": [
        {
          "data": {
            "text/plain": [
              "[(0, '¡hola!'), (1, 1), (2, True), (3, 1000)]"
            ]
          },
          "execution_count": 81,
          "metadata": {},
          "output_type": "execute_result"
        }
      ],
      "source": [
        "['¡hola!', 1, True, 1000]\n",
        "enumerate( ['¡hola!',1,True,1000] )\n",
        "list( enumerate( ['¡hola!',1,True,1000] ) )"
      ]
    },
    {
      "cell_type": "code",
      "execution_count": 82,
      "metadata": {
        "colab": {
          "base_uri": "https://localhost:8080/"
        },
        "id": "0AlBwVT6KDBx",
        "outputId": "36c75d00-d1e4-40df-d0a8-33c148e9d8ef"
      },
      "outputs": [
        {
          "name": "stdout",
          "output_type": "stream",
          "text": [
            "El elemento 0  en la lista es: ¡hola!\n",
            "El elemento 1  en la lista es: 1\n",
            "El elemento 2  en la lista es: True\n",
            "El elemento 3  en la lista es: 1000\n"
          ]
        }
      ],
      "source": [
        "'''\n",
        "for elemento in list( enumerate( ['¡hola!',1,True,1000] )):\n",
        "    print(elemento)\n",
        "'''\n",
        "for index, elemento in enumerate( ['¡hola!',1,True,1000] ):\n",
        "    print(\"El elemento\", index ,\" en la lista es:\", elemento)\n"
      ]
    },
    {
      "cell_type": "code",
      "execution_count": 83,
      "metadata": {
        "colab": {
          "base_uri": "https://localhost:8080/"
        },
        "id": "E_Bq5pGiK3yq",
        "outputId": "c2f3b248-3042-42b9-ddc9-7c949e004fcc"
      },
      "outputs": [
        {
          "name": "stdout",
          "output_type": "stream",
          "text": [
            "[1, 4, 9, 16, 25]\n"
          ]
        }
      ],
      "source": [
        "mi_lista = [1,2,3,4,5]\n",
        "mi_lista_cuadrada = []\n",
        "\n",
        "for element in mi_lista:\n",
        "    mi_lista_cuadrada.append(element ** 2)\n",
        "\n",
        "print(mi_lista_cuadrada)"
      ]
    },
    {
      "cell_type": "markdown",
      "metadata": {
        "id": "JtF7gRXwIR6c"
      },
      "source": [
        "En Python tenemos la opción de ***crear listas a través a partir de otros elementos que son iterables*** (es decir, que puedo repetir una operación bajo una cierta condición)"
      ]
    },
    {
      "cell_type": "markdown",
      "metadata": {
        "id": "GFU8bpWrMlYA"
      },
      "source": [
        "Una forma alternativa (y más eficiente) de programar el código anterior es usando ***listas por comprensión***.\n",
        "\n",
        "La estructura general para crear una lista por compresión es la siguiente:\n",
        "\n",
        "\n",
        "```\n",
        "nueva_lista = [expresion/operacion    condicion_bucle_1    condicion_bucle_2 ...]\n",
        "```\n",
        "\n"
      ]
    },
    {
      "cell_type": "markdown",
      "metadata": {
        "id": "A8vlwT_1ObXV"
      },
      "source": [
        "Un ejemplo donde podemos hacer uso de la creación de listas por compresión sería, dada una lista de números, crear una nueva lista con los sucesores de la lista dada.\n",
        "\n",
        "En principio, podríamos hacer uso de un ciclo `for` para dicho propósito"
      ]
    },
    {
      "cell_type": "code",
      "execution_count": 84,
      "metadata": {
        "colab": {
          "base_uri": "https://localhost:8080/"
        },
        "id": "iiLGEiZuJ9VX",
        "outputId": "bcf833d5-0934-4321-c164-715bb85ae5cd"
      },
      "outputs": [
        {
          "data": {
            "text/plain": [
              "[2, 8, 15, -9, 6, 10, 11, 3, 4]"
            ]
          },
          "execution_count": 84,
          "metadata": {},
          "output_type": "execute_result"
        }
      ],
      "source": [
        "numeros = [1, 7, 14, -10, 5, 9, 10, 2, 3]\n",
        "resultados = []\n",
        "for n in numeros:\n",
        "    resultados.append(n + 1)\n",
        "\n",
        "resultados"
      ]
    },
    {
      "cell_type": "markdown",
      "metadata": {
        "id": "YDGvBmGRkRm3"
      },
      "source": [
        "Haciendo uso de listas por comprensión tendríamos lo siguiente"
      ]
    },
    {
      "cell_type": "code",
      "execution_count": 85,
      "metadata": {
        "colab": {
          "base_uri": "https://localhost:8080/"
        },
        "id": "6wp0CvbFKAM4",
        "outputId": "80441d86-a5f8-45b1-c880-67db9ba02341"
      },
      "outputs": [
        {
          "data": {
            "text/plain": [
              "[2, 8, 15, -9, 6, 10, 11, 3, 4]"
            ]
          },
          "execution_count": 85,
          "metadata": {},
          "output_type": "execute_result"
        }
      ],
      "source": [
        "numeros = [1, 7, 14, -10, 5, 9, 10, 2, 3]\n",
        "resultados = [n + 1 for n in numeros]\n",
        "resultados"
      ]
    },
    {
      "cell_type": "markdown",
      "metadata": {
        "id": "DYvNrhgxkc0J"
      },
      "source": [
        "Podemos agregar una condición, por ejemplo pidiendo que dichos numeros sean menor a 10 mediante el condicional `if`"
      ]
    },
    {
      "cell_type": "code",
      "execution_count": 86,
      "metadata": {
        "colab": {
          "base_uri": "https://localhost:8080/"
        },
        "id": "yelVjHagMIGu",
        "outputId": "314f4484-b9db-460a-8525-6be5e0da376b"
      },
      "outputs": [
        {
          "data": {
            "text/plain": [
              "[2, 8, -9, 6, 10, 3, 4]"
            ]
          },
          "execution_count": 86,
          "metadata": {},
          "output_type": "execute_result"
        }
      ],
      "source": [
        "numeros = [1, 7, 14, -10, 5, 9, 10, 2, 3]\n",
        "resultados = [n + 1 for n in numeros if n < 10]\n",
        "resultados"
      ]
    },
    {
      "cell_type": "code",
      "execution_count": 87,
      "metadata": {
        "colab": {
          "base_uri": "https://localhost:8080/"
        },
        "id": "7SEQxNbnEWsJ",
        "outputId": "c35eb1b9-b93d-4415-877f-424e8093c936"
      },
      "outputs": [
        {
          "data": {
            "text/plain": [
              "9"
            ]
          },
          "execution_count": 87,
          "metadata": {},
          "output_type": "execute_result"
        }
      ],
      "source": [
        "len(numeros)"
      ]
    },
    {
      "cell_type": "code",
      "execution_count": 88,
      "metadata": {
        "colab": {
          "base_uri": "https://localhost:8080/"
        },
        "id": "WXYrNq_tEbxV",
        "outputId": "7353139a-b9c9-4bf0-b5bb-4da0bc735586"
      },
      "outputs": [
        {
          "data": {
            "text/plain": [
              "7"
            ]
          },
          "execution_count": 88,
          "metadata": {},
          "output_type": "execute_result"
        }
      ],
      "source": [
        "len(resultados)"
      ]
    },
    {
      "cell_type": "markdown",
      "metadata": {
        "id": "oZYkrKUqPmTG"
      },
      "source": [
        "En el caso de que se desee realizar una operación diferente cuando no se cumple la condición se puede hacer con un `else`. Aunque es necesario cambiar modificar el orden.\n",
        "\n",
        "Si se utiliza un `else` la condición se tiene que situar justamente después de la expresión y antes del `for`.\n",
        "```\n",
        "nueva_lista = [expresion/operacion   if  condicion_if    else   expresion/operacion     bucle_for]\n",
        "```\n",
        "Por ejemplo, en el siguiente código los números mayores o iguales que tres se dejan sin modificar.\n",
        "\n"
      ]
    },
    {
      "cell_type": "code",
      "execution_count": 89,
      "metadata": {
        "colab": {
          "base_uri": "https://localhost:8080/"
        },
        "id": "JmufgMnAysC9",
        "outputId": "5ec9bc3d-8d1e-4289-e46a-4e64d234ce5e"
      },
      "outputs": [
        {
          "name": "stdout",
          "output_type": "stream",
          "text": [
            "[2]\n",
            "[2, 8]\n",
            "[2, 8, 14]\n",
            "[2, 8, 14, -9]\n"
          ]
        }
      ],
      "source": [
        "numeros = [1, 7, 14, -10] #, 5, 9, 10, 2, 3]\n",
        "resultados = []\n",
        "for n in numeros:\n",
        "  if n < 10:\n",
        "    resultados.append(n+1)\n",
        "  else:\n",
        "    resultados.append(n)\n",
        "  print(resultados)"
      ]
    },
    {
      "cell_type": "code",
      "execution_count": 90,
      "metadata": {
        "colab": {
          "base_uri": "https://localhost:8080/"
        },
        "id": "Q5_ehZt-MPVg",
        "outputId": "25b1587e-39d1-46fb-d630-223a861e3d74"
      },
      "outputs": [
        {
          "data": {
            "text/plain": [
              "[2, 8, 14, -9, 6, 10, 10, 3, 4]"
            ]
          },
          "execution_count": 90,
          "metadata": {},
          "output_type": "execute_result"
        }
      ],
      "source": [
        "numeros = [1, 7, 14, -10, 5, 9, 10, 2, 3]\n",
        "resultados = [n + 1 if n < 10 else n for n in numeros]\n",
        "resultados"
      ]
    },
    {
      "cell_type": "markdown",
      "metadata": {
        "id": "IriQjrcDTy1Q"
      },
      "source": [
        "Un ejemplo típico de las listas por compresión es cuando hacemos uso de ciclos o bucles anidados, en particular podríamos estar anidadndo ciclos `for`.\n",
        "\n",
        "Por ejmplo, podemos estar intereados en buscar el conjunto de elementos comunes en dos listas. Lo que se puede conseguir de con el siguiente código."
      ]
    },
    {
      "cell_type": "code",
      "execution_count": 91,
      "metadata": {
        "id": "432EH3qZRhiI"
      },
      "outputs": [],
      "source": [
        "nombres_1 = ['Oralie' ,'Imojean' ,'Michele', 'Ailbert', 'Stevy']\n",
        "nombres_2 = ['Jayson', 'Oralie' ,'Michele', 'Stevy', 'Alwyn']\n",
        "nombres_comun = []\n",
        "for a in nombres_1:\n",
        "    for b in nombres_2:\n",
        "        if a == b:\n",
        "            nombres_comun.append(a)"
      ]
    },
    {
      "cell_type": "markdown",
      "metadata": {
        "id": "e3qK6x_WnOxM"
      },
      "source": [
        "Su versión alternativa usando ciclos `for` sería iterando sobre los elementos de cada lista y después rescatar únicamente aquellos que coincidan."
      ]
    },
    {
      "cell_type": "code",
      "execution_count": 92,
      "metadata": {
        "colab": {
          "base_uri": "https://localhost:8080/"
        },
        "id": "wBAx6bvZRG9S",
        "outputId": "2727e15d-8b93-47c1-e112-4dc346c52869"
      },
      "outputs": [
        {
          "data": {
            "text/plain": [
              "['Oralie', 'Michele', 'Stevy']"
            ]
          },
          "execution_count": 92,
          "metadata": {},
          "output_type": "execute_result"
        }
      ],
      "source": [
        "nombres_1 = ['Oralie' ,'Imojean' ,'Michele', 'Ailbert', 'Stevy']\n",
        "nombres_2 = ['Jayson', 'Oralie' ,'Michele', 'Stevy', 'Alwyn']\n",
        "\n",
        "nombres_comun = [a for a in nombres_1 for b in nombres_2 if a == b]\n",
        "nombres_comun"
      ]
    },
    {
      "cell_type": "markdown",
      "metadata": {
        "id": "xulTKGwYTcxY"
      },
      "source": [
        "Retomando el ejemplo que vimos al inicio, el código natural a efectur para llenar una lista con elementos al cuadrado es la siguiente"
      ]
    },
    {
      "cell_type": "code",
      "execution_count": 93,
      "metadata": {
        "colab": {
          "base_uri": "https://localhost:8080/"
        },
        "id": "czOII-gJofGg",
        "outputId": "0d73a1e6-1006-444d-fa82-7c739471a483"
      },
      "outputs": [
        {
          "name": "stdout",
          "output_type": "stream",
          "text": [
            "[1, 4, 9, 16, 25]\n"
          ]
        }
      ],
      "source": [
        "mi_lista = [1,2,3,4,5]\n",
        "mi_lista_cuadrada =[]\n",
        "\n",
        "for element in mi_lista:\n",
        "    mi_lista_cuadrada.append(element ** 2)\n",
        "\n",
        "print(mi_lista_cuadrada)"
      ]
    },
    {
      "cell_type": "markdown",
      "metadata": {
        "id": "NlJHlIyHTk6-"
      },
      "source": [
        "Mientras que una lista por compresión con dicha operación estaría dada por la siguiente línea de código"
      ]
    },
    {
      "cell_type": "code",
      "execution_count": 94,
      "metadata": {
        "colab": {
          "base_uri": "https://localhost:8080/"
        },
        "id": "Ku6Jh-mfM-6z",
        "outputId": "25e12716-d3dd-48b5-9583-8833b6dc7dcf"
      },
      "outputs": [
        {
          "name": "stdout",
          "output_type": "stream",
          "text": [
            "[1, 4, 9, 16, 25]\n"
          ]
        }
      ],
      "source": [
        "mi_lista = [1,2,3,4,5]\n",
        "# [1,4,9,16,25]\n",
        "\n",
        "mi_lista_cuadrada = [element**2 for element in mi_lista]\n",
        "print(mi_lista_cuadrada)"
      ]
    },
    {
      "cell_type": "code",
      "execution_count": 95,
      "metadata": {
        "colab": {
          "base_uri": "https://localhost:8080/"
        },
        "id": "yZqB8yzzUiNY",
        "outputId": "d7b2394b-7cb9-4943-f40e-20218fec622c"
      },
      "outputs": [
        {
          "data": {
            "text/plain": [
              "15"
            ]
          },
          "execution_count": 95,
          "metadata": {},
          "output_type": "execute_result"
        }
      ],
      "source": [
        "sum(mi_lista)"
      ]
    },
    {
      "cell_type": "code",
      "execution_count": null,
      "metadata": {},
      "outputs": [],
      "source": []
    },
    {
      "cell_type": "markdown",
      "metadata": {},
      "source": [
        "# Data Frames"
      ]
    },
    {
      "cell_type": "markdown",
      "metadata": {},
      "source": [
        "Un DataFrame es una estructura de datos bidimensional en la biblioteca pandas de Python. Es similar a una tabla en bases de datos o a una hoja de cálculo en Excel, ya que organiza la información en filas y columnas."
      ]
    },
    {
      "cell_type": "markdown",
      "metadata": {},
      "source": [
        "Construcción de un DataFrame desde un diccionario"
      ]
    },
    {
      "cell_type": "code",
      "execution_count": null,
      "metadata": {},
      "outputs": [],
      "source": [
        "df = pd.DataFrame({\n",
        "    'Nombre': ['Ana', 'Juan', 'Luis', 'María'],\n",
        "    'Edad': [25, 30, 22, 28],\n",
        "    'Ciudad': ['CDMX', 'Madrid', 'Buenos Aires', 'Santiago']\n",
        "})"
      ]
    },
    {
      "cell_type": "markdown",
      "metadata": {},
      "source": [
        "Cargar archivos CSV y Excel con pandas"
      ]
    },
    {
      "cell_type": "code",
      "execution_count": null,
      "metadata": {},
      "outputs": [],
      "source": [
        "df_csv = pd.read_csv('archivo.csv')  # Cargar CSV\n",
        "df_excel = pd.read_excel('archivo.xlsx')  # Cargar Excel"
      ]
    },
    {
      "cell_type": "markdown",
      "metadata": {},
      "source": [
        "# Filtros basicos en sobre un data frame "
      ]
    },
    {
      "cell_type": "code",
      "execution_count": null,
      "metadata": {},
      "outputs": [],
      "source": [
        "# Filtrado de datos\n",
        "filtro_edades = df[df['Edad'] > 25]  # Filtrar filas donde la edad es mayor a 25\n",
        "filtro_ciudad = df[df['Ciudad'].str.contains('M')]  # Filtrar ciudades que contienen 'M'\n",
        "\n",
        "# Mostrar resultados\n",
        "print(\"DataFrame Original:\")\n",
        "print(df)\n",
        "print(\"\\nFiltrado por edad > 25:\")\n",
        "print(filtro_edades)\n",
        "print(\"\\nFiltrado por ciudades con 'M':\")\n",
        "print(filtro_ciudad)"
      ]
    }
  ],
  "metadata": {
    "colab": {
      "provenance": []
    },
    "kernelspec": {
      "display_name": "Python 3",
      "name": "python3"
    },
    "language_info": {
      "codemirror_mode": {
        "name": "ipython",
        "version": 3
      },
      "file_extension": ".py",
      "mimetype": "text/x-python",
      "name": "python",
      "nbconvert_exporter": "python",
      "pygments_lexer": "ipython3",
      "version": "3.11.4"
    }
  },
  "nbformat": 4,
  "nbformat_minor": 0
}
