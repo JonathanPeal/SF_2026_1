{
  "cells": [
    {
      "cell_type": "markdown",
      "metadata": {
        "id": "GOvFUn6kGY_a"
      },
      "source": [
        "</b><font color = #000066 size=6.5> Facultad de Ciencias</font>\n",
        "<br><font color = #CC9933 size=6.5> UNAM </font>\n",
        "<br><font color = ##A1C8DC size=6.5> Métodos Cuantitativos en Finanzas 2024-1 </font>\n",
        " <br><font color = silver size=7> Introducción a Python</font>"
      ]
    },
    {
      "cell_type": "markdown",
      "metadata": {
        "id": "A5VcGA_CF-Fx"
      },
      "source": [
        "## Funciones en Python\n",
        "\n",
        "Python nos permite definir funciones, colocarle argumentos, ejecutar una tarea solicitada y devolver un resultado.\n",
        "La síntaxis de una función en Python es la siguiente.\n",
        "\n",
        "\n",
        "```\n",
        "def nombre_funcion (param1, param2, ... , paramn):\n",
        "  codigo interno de la funcion\n",
        "  ...\n",
        "  ...\n",
        "  return variable\n",
        "```\n",
        "\n"
      ]
    },
    {
      "cell_type": "markdown",
      "metadata": {
        "id": "2sOA9q19GBzl"
      },
      "source": [
        "En realidad nosotros ya hemos trabajado con funciones hasta este momento. Hemos trabajado con las funciones \"elementales\" o \"básicas\" de Python. Por ejemplo, cuando trabajamos con las funciones/métodos de las clases de datos."
      ]
    },
    {
      "cell_type": "code",
      "execution_count": null,
      "metadata": {
        "colab": {
          "base_uri": "https://localhost:8080/"
        },
        "id": "6G24PNTIGD5X",
        "outputId": "d3db243b-1917-4761-e06a-f039e6771a4e"
      },
      "outputs": [
        {
          "data": {
            "text/plain": [
              "12"
            ]
          },
          "execution_count": 2,
          "metadata": {},
          "output_type": "execute_result"
        }
      ],
      "source": [
        "palabra = \"12\"\n",
        "numero = int(palabra)\n",
        "numero"
      ]
    },
    {
      "cell_type": "code",
      "execution_count": null,
      "metadata": {
        "id": "7dAWKI3-GHW1"
      },
      "outputs": [],
      "source": [
        "def mi_funcion_suma(x, y):\n",
        "    \"\"\"Esta función devuelve la suma de los dos argumentos\n",
        "    x: primer argumento\n",
        "    y: segundo argumento\n",
        "\n",
        "    output: suma de x y y\n",
        "    \"\"\"\n",
        "    return x+y"
      ]
    },
    {
      "cell_type": "code",
      "execution_count": null,
      "metadata": {
        "colab": {
          "base_uri": "https://localhost:8080/"
        },
        "id": "5BO_9Y2cGJNi",
        "outputId": "87a4b856-7433-449a-f0dc-28e6ad72da76"
      },
      "outputs": [
        {
          "data": {
            "text/plain": [
              "12"
            ]
          },
          "execution_count": 3,
          "metadata": {},
          "output_type": "execute_result"
        }
      ],
      "source": [
        "mi_funcion_suma(10,2)"
      ]
    },
    {
      "cell_type": "markdown",
      "metadata": {
        "id": "1Mu51V-YVkw9"
      },
      "source": [
        "Otro ejemplo de función:\n",
        "\n",
        "La suma de los primeros n números naturales"
      ]
    },
    {
      "cell_type": "markdown",
      "metadata": {
        "id": "c1Dk8OYuGO_3"
      },
      "source": [
        "Recordemos que, para cada entero $n$:\n",
        "$$\n",
        "\\sum_{i=1}^{n} i  = \\frac{n(n+1)}{2}\n",
        "$$"
      ]
    },
    {
      "cell_type": "code",
      "execution_count": null,
      "metadata": {
        "id": "NpNb-KXKGMx7"
      },
      "outputs": [],
      "source": [
        "def sum_integ(n):\n",
        "    res = 0 # Inicializamos la variable res\n",
        "    for i in range(1, n+1):\n",
        "        res += i # Operador de suma y asigna\n",
        "    return res\n",
        "\n",
        "# Alternativamente podemos escribir la función anterior en un par de lineas\n",
        "def sum_integ_alternative(n):\n",
        "    return sum( [i for i in range(1, n+1)] )\n",
        "\n",
        "# Y aquí con la fórmula teórica\n",
        "def sum_integ_formula(n):\n",
        "    return n*(n+1) / 2"
      ]
    },
    {
      "cell_type": "code",
      "execution_count": null,
      "metadata": {
        "colab": {
          "base_uri": "https://localhost:8080/"
        },
        "id": "QeS4w0LWGRfH",
        "outputId": "477d830b-331f-4a6b-ac11-8b44b9f36069"
      },
      "outputs": [
        {
          "name": "stdout",
          "output_type": "stream",
          "text": [
            "Suma de los primeros n números: 55\n",
            "Suma (alternativa) de los primeros n números: 55\n",
            "Fórmula teórica de las suma de los primeros n números: 55.0\n"
          ]
        }
      ],
      "source": [
        "n = 10\n",
        "\n",
        "print(\"Suma de los primeros n números:\", sum_integ(n) )\n",
        "print(\"Suma (alternativa) de los primeros n números:\", sum_integ_alternative(n))\n",
        "print(\"Fórmula teórica de las suma de los primeros n números:\", sum_integ_formula(n))"
      ]
    },
    {
      "cell_type": "markdown",
      "metadata": {
        "id": "ICwknXn6ck3n"
      },
      "source": [
        "<br><font color = #3F6E9A size=5> NOTA IMPORTANTE </font>\n",
        "Debemos ser cuidadosos con la sintaxis usada para definir variables, funciones y clases en programación.\n",
        "\n",
        "\n",
        "```\n",
        "VARIABLES: nombre_de_una_variable\n",
        "\n",
        "FUNCIONES: nombreDeUnaFuncion // nombre_de_una_funcion\n",
        "\n",
        "CLASES: NombreDeUnaClase // Nombre_de_una_clase\n",
        "```\n",
        "\n",
        "Esta notación no es obligatoria cuando programamos en Python pero sí forma parte de lso buenos habítos de programación (como el comentar línea de código).\n",
        "\n",
        "\n",
        "\n"
      ]
    },
    {
      "cell_type": "markdown",
      "metadata": {
        "id": "nOdvKle5GTmA"
      },
      "source": [
        "Como vimos al principio de esta sección, una función puede tener varios argumentos o tomar argumentos que son keywords.\n",
        "\n",
        "Sin embargo, también existen argumentos que podemos \"predefinir\" no solo al llamar nuestra función, sino al definir la misma."
      ]
    },
    {
      "cell_type": "code",
      "execution_count": null,
      "metadata": {
        "colab": {
          "base_uri": "https://localhost:8080/"
        },
        "id": "T_SVJDqSGVY8",
        "outputId": "f4ee9364-a917-48ca-8845-0ed7b5b8994c"
      },
      "outputs": [
        {
          "name": "stdout",
          "output_type": "stream",
          "text": [
            "1\n",
            "2\n",
            "3\n",
            "3\n"
          ]
        }
      ],
      "source": [
        "def ecuacion_recta_origen(x, a = 1, b = 0):\n",
        "    return a*x + b\n",
        "\n",
        "# Analicemos qué hace ecuacion_recta_origen en cada caso\n",
        "\n",
        "print(ecuacion_recta_origen(1))       # 1*1 + 0\n",
        "print(ecuacion_recta_origen(1, 2))    # 1*2 + 0\n",
        "print(ecuacion_recta_origen(1, 1, 2)) # 1*1 + 2\n",
        "print(ecuacion_recta_origen(1, b = 2))  # 1*1 + 2"
      ]
    },
    {
      "cell_type": "markdown",
      "metadata": {
        "id": "xXazqSbCG96x"
      },
      "source": [
        "### Ejercicios\n",
        "\n",
        "1. Dada una lista de números `int`, escribe una función que tome como argumento esa lista y devuelva una lista que tenga únicamente sus elementos pares."
      ]
    },
    {
      "cell_type": "code",
      "execution_count": null,
      "metadata": {
        "id": "Jk92KAzDG_nh"
      },
      "outputs": [],
      "source": [
        "def get_pares(input_list):\n",
        "    \"\"\" Esta función devuelve los numeros pares de una lista\n",
        "        input/entrada: lista de números enteros\n",
        "        output/salida: lista de números pares\n",
        "    \"\"\"\n",
        "    pares = []\n",
        "    for elemento in input_list:\n",
        "        if elemento%2 == 0:\n",
        "            pares.append(elemento)\n",
        "\n",
        "    return pares\n",
        "\n",
        "# Forma alternativa de escribir la función\n",
        "def get_pares_bis(input_list):\n",
        "    return [elemento for elemento in input_list if elemento%2==0]"
      ]
    },
    {
      "cell_type": "code",
      "execution_count": null,
      "metadata": {
        "colab": {
          "base_uri": "https://localhost:8080/"
        },
        "id": "J75HxevVHUmO",
        "outputId": "7c30ff86-f6fe-4f45-9c5a-c1ffeab15e47"
      },
      "outputs": [
        {
          "name": "stdout",
          "output_type": "stream",
          "text": [
            "[4, 16, 36]\n"
          ]
        }
      ],
      "source": [
        "lis=[1,4,9,16,25,36]\n",
        "\n",
        "print(get_pares(lis))"
      ]
    },
    {
      "cell_type": "markdown",
      "metadata": {
        "id": "ZCYHWgCYVGp7"
      },
      "source": [
        "2. Crea una función que reciba un número entero y devuelva todos los divisores de ese número en una lista."
      ]
    },
    {
      "cell_type": "code",
      "execution_count": 3,
      "metadata": {
        "id": "if7ZbFPvVISX"
      },
      "outputs": [],
      "source": [
        "def get_divisores(input_entero):\n",
        "    \"\"\"Esta función devuelve todos los divisores de un número dado\n",
        "    input: un numero tipo entero\n",
        "    output: lista con los divisores de input_entero\n",
        "\n",
        "    \"\"\"\n",
        "    return [elemento for elemento in range(1,input_entero+1) if input_entero%elemento == 0]"
      ]
    },
    {
      "cell_type": "code",
      "execution_count": 1,
      "metadata": {},
      "outputs": [],
      "source": [
        "def divisor_alum(input_entero):\n",
        "    d =[]\n",
        "    for elemento in range(1,input_entero+1):\n",
        "        if input_entero%elemento == 0:\n",
        "            d.append(elemento)\n",
        "    return d"
      ]
    },
    {
      "cell_type": "code",
      "execution_count": 2,
      "metadata": {},
      "outputs": [
        {
          "data": {
            "text/plain": [
              "[1, 2, 4]"
            ]
          },
          "execution_count": 2,
          "metadata": {},
          "output_type": "execute_result"
        }
      ],
      "source": [
        "divisor_alum(4)"
      ]
    },
    {
      "cell_type": "code",
      "execution_count": 4,
      "metadata": {
        "colab": {
          "base_uri": "https://localhost:8080/"
        },
        "id": "oFdFSBsTVJxp",
        "outputId": "56ae8b64-c283-4736-e1ff-5ffaef29c224"
      },
      "outputs": [
        {
          "data": {
            "text/plain": [
              "[1, 7, 17, 119, 289, 2023]"
            ]
          },
          "execution_count": 4,
          "metadata": {},
          "output_type": "execute_result"
        }
      ],
      "source": [
        "get_divisores(2023)"
      ]
    },
    {
      "cell_type": "markdown",
      "metadata": {
        "id": "n9xP854ZVMSh"
      },
      "source": [
        "3. Escribe una función que determine si un número es primo (número que no tiene divisores) o no.\n",
        "\n",
        "Hint: Usa la función get_divisores()."
      ]
    },
    {
      "cell_type": "code",
      "execution_count": null,
      "metadata": {
        "id": "BmadnaLSVUqb"
      },
      "outputs": [],
      "source": [
        "def is_prime(input_entero):\n",
        "    \"\"\" Esta función devuelve True si el numero es primo, False si no es primo\n",
        "    input: un entero\n",
        "    output: un booleano (tipo de dato lógico)\n",
        "    \"\"\"\n",
        "    return (len(get_divisores(input_entero) )  ==  2) is True"
      ]
    },
    {
      "cell_type": "code",
      "execution_count": null,
      "metadata": {
        "colab": {
          "base_uri": "https://localhost:8080/"
        },
        "id": "m7xIxkNCVV_-",
        "outputId": "16e1d8c1-2941-4f4d-fe2f-fcbd1b5dca26"
      },
      "outputs": [
        {
          "data": {
            "text/plain": [
              "True"
            ]
          },
          "execution_count": 13,
          "metadata": {},
          "output_type": "execute_result"
        }
      ],
      "source": [
        "is_prime(13)"
      ]
    },
    {
      "cell_type": "code",
      "execution_count": null,
      "metadata": {
        "colab": {
          "base_uri": "https://localhost:8080/"
        },
        "id": "IHq5ohVsVXLb",
        "outputId": "2a7f3c1a-1772-42e8-e794-0afdb34a9a98"
      },
      "outputs": [
        {
          "data": {
            "text/plain": [
              "False"
            ]
          },
          "execution_count": 14,
          "metadata": {},
          "output_type": "execute_result"
        }
      ],
      "source": [
        "is_prime(2023)"
      ]
    },
    {
      "cell_type": "markdown",
      "metadata": {
        "id": "zXP03_T-ViL2"
      },
      "source": [
        "## Expresiones lambda en Python\n",
        "\n",
        "Para los casos en que deseamos definir una función sin darle un nompre específico y queremos usar la función una sola vez. En general, las funciones lambdas son consideradas **funciones anónimas**.\n",
        "\n",
        "La estructura para definir estas funciones es la siguiente:\n",
        "\n",
        "\n",
        "```\n",
        "lambda parametro_1, parametros_2, ... : operacion\n",
        "```\n",
        "\n"
      ]
    },
    {
      "cell_type": "code",
      "execution_count": null,
      "metadata": {
        "colab": {
          "base_uri": "https://localhost:8080/"
        },
        "id": "Ii0nXA9NVysc",
        "outputId": "baad86d9-6cd2-4586-ba47-52fee3dba8ea"
      },
      "outputs": [
        {
          "data": {
            "text/plain": [
              "9"
            ]
          },
          "execution_count": 16,
          "metadata": {},
          "output_type": "execute_result"
        }
      ],
      "source": [
        "# Funcion que recibe un argumento o parametro y devuelve su cuadrado\n",
        "(lambda x : x**2) (3)"
      ]
    },
    {
      "cell_type": "code",
      "execution_count": null,
      "metadata": {
        "colab": {
          "base_uri": "https://localhost:8080/"
        },
        "id": "MkdTf5GJV1f0",
        "outputId": "7d71ed4a-a0a3-45f1-9e08-2446a6b4e873"
      },
      "outputs": [
        {
          "data": {
            "text/plain": [
              "6"
            ]
          },
          "execution_count": 24,
          "metadata": {},
          "output_type": "execute_result"
        }
      ],
      "source": [
        "# Funcion que recibe tres parámetros y devuelve su suma\n",
        "(lambda x,y,z : x + y + z)(1,2,3)"
      ]
    },
    {
      "cell_type": "markdown",
      "metadata": {
        "id": "liVlpBCNe3zw"
      },
      "source": [
        "Para poder almacenar nuestra función `lambda` debemos almacenarla en una variable (que en realidad será un función) y con ello podremos hacer uso de `lambda` como si de una función se tratase."
      ]
    },
    {
      "cell_type": "code",
      "execution_count": null,
      "metadata": {
        "colab": {
          "base_uri": "https://localhost:8080/"
        },
        "id": "DLZGl-WtV3NB",
        "outputId": "c4998153-af23-4bf4-da4d-b5e0ddbde0cd"
      },
      "outputs": [
        {
          "data": {
            "text/plain": [
              "8"
            ]
          },
          "execution_count": 17,
          "metadata": {},
          "output_type": "execute_result"
        }
      ],
      "source": [
        "potencia = lambda x, y: x ** y\n",
        "\n",
        "potencia(2, 3)"
      ]
    },
    {
      "cell_type": "code",
      "execution_count": null,
      "metadata": {
        "colab": {
          "base_uri": "https://localhost:8080/"
        },
        "id": "x3xhGcOfccys",
        "outputId": "b6589aab-33b0-41c9-f2dc-b11dd1d13915"
      },
      "outputs": [
        {
          "data": {
            "text/plain": [
              "8"
            ]
          },
          "execution_count": 18,
          "metadata": {},
          "output_type": "execute_result"
        }
      ],
      "source": [
        "def potencia_alt(x,y):\n",
        "    return x**y\n",
        "\n",
        "potencia_alt(2, 3)"
      ]
    },
    {
      "cell_type": "code",
      "execution_count": 1,
      "metadata": {},
      "outputs": [],
      "source": [
        "x = 27\n",
        "n = 3\n",
        "raiz = x ** (1/n)"
      ]
    },
    {
      "cell_type": "code",
      "execution_count": 2,
      "metadata": {},
      "outputs": [],
      "source": [
        "raiz = pow(x, 1/n)"
      ]
    },
    {
      "cell_type": "markdown",
      "metadata": {
        "id": "bf4yHEffV8O9"
      },
      "source": [
        "### Función `map()`\n",
        "La función `map()` nos permite ***aplicar una función a todos los elementos de una lista***. El resultado es un objeto iterable tipo `map`. La sintaxis es la siguiente:\n",
        "\n",
        "\n",
        "\n",
        "```\n",
        "map(funcion , lista)\n",
        "```"
      ]
    },
    {
      "cell_type": "markdown",
      "metadata": {
        "id": "TeTPeTIEgwvR"
      },
      "source": [
        "Por ejemplo, podemos definir una funcion que nos regrese el cuadrado de un número y hacer uso de `map()` para obtener el cuadrado de los elementos de una lista."
      ]
    },
    {
      "cell_type": "code",
      "execution_count": null,
      "metadata": {
        "colab": {
          "base_uri": "https://localhost:8080/"
        },
        "id": "IMcdN2jvXQ4y",
        "outputId": "1fe7a7d2-6455-4430-b2a5-84df4f4c9b9a"
      },
      "outputs": [
        {
          "data": {
            "text/plain": [
              "<map at 0x7fe32cbf8f70>"
            ]
          },
          "execution_count": 19,
          "metadata": {},
          "output_type": "execute_result"
        }
      ],
      "source": [
        "def eleva_cuadrado(x):\n",
        "    return x ** 2\n",
        "\n",
        "numeros = [2, 5, 10, 23, 50, 33]\n",
        "\n",
        "cuadrado_numeros = map(eleva_cuadrado, numeros)\n",
        "cuadrado_numeros"
      ]
    },
    {
      "cell_type": "markdown",
      "metadata": {
        "id": "GlJzGzx_Xdgm"
      },
      "source": [
        "Para poder ver nuestro objeto tipo `map` debemos hacerlo una lista mediante la función `list()`"
      ]
    },
    {
      "cell_type": "code",
      "execution_count": null,
      "metadata": {
        "colab": {
          "base_uri": "https://localhost:8080/"
        },
        "id": "QOtHXu3mXj2v",
        "outputId": "7eee37cf-1451-4baf-8497-4e2e110f6467"
      },
      "outputs": [
        {
          "data": {
            "text/plain": [
              "[4, 25, 100, 529, 2500, 1089]"
            ]
          },
          "execution_count": 21,
          "metadata": {},
          "output_type": "execute_result"
        }
      ],
      "source": [
        "cuadrado_numeros = map(eleva_cuadrado, numeros)\n",
        "list( map(eleva_cuadrado, numeros) )"
      ]
    },
    {
      "cell_type": "markdown",
      "metadata": {
        "id": "WzcARLYpXTDA"
      },
      "source": [
        "Podemos usar `map()`junto con un operador `lambda`.\n",
        "Por ejemplo, para el problema del cuadrado de los elementos de una lista."
      ]
    },
    {
      "cell_type": "code",
      "execution_count": null,
      "metadata": {
        "colab": {
          "base_uri": "https://localhost:8080/"
        },
        "id": "mNHFuRxqV6S9",
        "outputId": "75417f62-6cd6-456e-c9dd-1d0a360850c1"
      },
      "outputs": [
        {
          "name": "stdout",
          "output_type": "stream",
          "text": [
            "[16, 25, 4, 36]\n"
          ]
        }
      ],
      "source": [
        "numeros = [4,5,2,6]\n",
        "\n",
        "cuadrados = map(lambda num: num ** 2, numeros)\n",
        "\n",
        "print(list(cuadrados))"
      ]
    },
    {
      "cell_type": "markdown",
      "metadata": {
        "id": "CPEL2TiyYAxQ"
      },
      "source": [
        "Por ejemplo si queremos multiplicar los números de dos listas:"
      ]
    },
    {
      "cell_type": "code",
      "execution_count": null,
      "metadata": {
        "colab": {
          "base_uri": "https://localhost:8080/"
        },
        "id": "_e8UmCF_YC4I",
        "outputId": "2531e42e-fb2f-4277-f1cb-149b8f491905"
      },
      "outputs": [
        {
          "data": {
            "text/plain": [
              "[6, 14, 24, 36, 50]"
            ]
          },
          "execution_count": 28,
          "metadata": {},
          "output_type": "execute_result"
        }
      ],
      "source": [
        "a = [1 , 2, 3, 4, 5 ]\n",
        "b = [6, 7, 8, 9, 10]\n",
        "\n",
        "list( map(lambda x,y : x*y, a,b) )"
      ]
    },
    {
      "cell_type": "markdown",
      "metadata": {
        "id": "BnIHvjkFlppa"
      },
      "source": [
        "## SOLUCIÓN PROBLEMAS PRÁCTICOS 1"
      ]
    },
    {
      "cell_type": "markdown",
      "metadata": {
        "id": "NJlWAHrult5m"
      },
      "source": [
        "* Ejercicio 1. Crea un programa que almacene el abecedario en una lista (sin incluir la “ñ”), elimina de la lista las letras que ocupen posiciones múltiples de 3 y finalmente muestra en pantalla la lista resultante."
      ]
    },
    {
      "cell_type": "code",
      "execution_count": null,
      "metadata": {
        "id": "n-4dODUhjkUi"
      },
      "outputs": [],
      "source": [
        "abecedario_1 = ['a', 'b', 'c', 'd', 'e', 'f', 'g', 'h', 'i', 'j', 'k', 'l', 'm', 'n', 'o', 'p', 'q', 'r', 's', 't', 'u', 'v', 'w', 'x', 'y', 'z']"
      ]
    },
    {
      "cell_type": "code",
      "execution_count": 5,
      "metadata": {
        "colab": {
          "base_uri": "https://localhost:8080/",
          "height": 36
        },
        "id": "vP10rHY5FNzF",
        "outputId": "db041213-1df2-4dd0-eb19-e09b9f3f2aa6"
      },
      "outputs": [
        {
          "data": {
            "text/plain": [
              "'z'"
            ]
          },
          "execution_count": 5,
          "metadata": {},
          "output_type": "execute_result"
        }
      ],
      "source": [
        "chr(122)\n"
      ]
    },
    {
      "cell_type": "code",
      "execution_count": 4,
      "metadata": {},
      "outputs": [
        {
          "data": {
            "text/plain": [
              "[97,\n",
              " 98,\n",
              " 99,\n",
              " 100,\n",
              " 101,\n",
              " 102,\n",
              " 103,\n",
              " 104,\n",
              " 105,\n",
              " 106,\n",
              " 107,\n",
              " 108,\n",
              " 109,\n",
              " 110,\n",
              " 111,\n",
              " 112,\n",
              " 113,\n",
              " 114,\n",
              " 115,\n",
              " 116,\n",
              " 117,\n",
              " 118,\n",
              " 119,\n",
              " 120,\n",
              " 121,\n",
              " 122]"
            ]
          },
          "execution_count": 4,
          "metadata": {},
          "output_type": "execute_result"
        }
      ],
      "source": [
        "list(range(97, 122 + 1))"
      ]
    },
    {
      "cell_type": "code",
      "execution_count": null,
      "metadata": {
        "colab": {
          "base_uri": "https://localhost:8080/"
        },
        "id": "4NPEKZlSka_j",
        "outputId": "c568643c-5f7d-4a5a-8cc7-af6fe399d0e1"
      },
      "outputs": [
        {
          "data": {
            "text/plain": [
              "['a',\n",
              " 'b',\n",
              " 'c',\n",
              " 'd',\n",
              " 'e',\n",
              " 'f',\n",
              " 'g',\n",
              " 'h',\n",
              " 'i',\n",
              " 'j',\n",
              " 'k',\n",
              " 'l',\n",
              " 'm',\n",
              " 'n',\n",
              " 'o',\n",
              " 'p',\n",
              " 'q',\n",
              " 'r',\n",
              " 's',\n",
              " 't',\n",
              " 'u',\n",
              " 'v',\n",
              " 'w',\n",
              " 'x',\n",
              " 'y',\n",
              " 'z']"
            ]
          },
          "execution_count": 5,
          "metadata": {},
          "output_type": "execute_result"
        }
      ],
      "source": [
        "abecedario_2 = list (map(chr, range(97, 122 + 1)) )\n",
        "abecedario_2"
      ]
    },
    {
      "cell_type": "code",
      "execution_count": null,
      "metadata": {
        "colab": {
          "base_uri": "https://localhost:8080/",
          "height": 35
        },
        "id": "dtjow2-K9fBg",
        "outputId": "8dddfc5b-da54-4dfa-e8fb-ef908e0bd777"
      },
      "outputs": [
        {
          "data": {
            "application/vnd.google.colaboratory.intrinsic+json": {
              "type": "string"
            },
            "text/plain": [
              "'z'"
            ]
          },
          "execution_count": 4,
          "metadata": {},
          "output_type": "execute_result"
        }
      ],
      "source": [
        "chr(122)"
      ]
    },
    {
      "cell_type": "code",
      "execution_count": 5,
      "metadata": {
        "id": "YyLyupy3X-A-"
      },
      "outputs": [],
      "source": [
        "import string\n",
        "abecedario = list(string.ascii_lowercase)\n",
        "\n",
        "resultado = []\n",
        "\n",
        "for indice in range(0 , len(list(string.ascii_lowercase)) ) :\n",
        "  if indice%3 != 0 :\n",
        "    resultado.append(abecedario[indice])"
      ]
    },
    {
      "cell_type": "code",
      "execution_count": null,
      "metadata": {
        "colab": {
          "base_uri": "https://localhost:8080/"
        },
        "id": "U0YCR-nHF1Jn",
        "outputId": "85f58f8d-7cf8-4653-c1e7-7f549bb1c903"
      },
      "outputs": [
        {
          "data": {
            "text/plain": [
              "['b',\n",
              " 'c',\n",
              " 'e',\n",
              " 'f',\n",
              " 'h',\n",
              " 'i',\n",
              " 'k',\n",
              " 'l',\n",
              " 'n',\n",
              " 'o',\n",
              " 'q',\n",
              " 'r',\n",
              " 't',\n",
              " 'u',\n",
              " 'w',\n",
              " 'x',\n",
              " 'z']"
            ]
          },
          "execution_count": 6,
          "metadata": {},
          "output_type": "execute_result"
        }
      ],
      "source": [
        "res = []\n",
        "for index, element in enumerate(abecedario):\n",
        "  if index%3 != 0 :\n",
        "    res.append(element)\n",
        "res"
      ]
    },
    {
      "cell_type": "code",
      "execution_count": null,
      "metadata": {
        "colab": {
          "base_uri": "https://localhost:8080/"
        },
        "id": "bkXI7Cif-pqh",
        "outputId": "2b6cee0f-6406-4d12-c657-a76b5603bf74"
      },
      "outputs": [
        {
          "data": {
            "text/plain": [
              "['b',\n",
              " 'c',\n",
              " 'e',\n",
              " 'f',\n",
              " 'h',\n",
              " 'i',\n",
              " 'k',\n",
              " 'l',\n",
              " 'n',\n",
              " 'o',\n",
              " 'q',\n",
              " 'r',\n",
              " 't',\n",
              " 'u',\n",
              " 'w',\n",
              " 'x',\n",
              " 'z']"
            ]
          },
          "execution_count": 16,
          "metadata": {},
          "output_type": "execute_result"
        }
      ],
      "source": [
        "resultado"
      ]
    },
    {
      "cell_type": "code",
      "execution_count": null,
      "metadata": {
        "colab": {
          "base_uri": "https://localhost:8080/"
        },
        "id": "7adiBF4zGZBH",
        "outputId": "20787481-3795-4b29-c4c1-95a5ef7f7331"
      },
      "outputs": [
        {
          "data": {
            "text/plain": [
              "['p', 'a', 'l', 'a', 'b', 'r', 'a']"
            ]
          },
          "execution_count": 11,
          "metadata": {},
          "output_type": "execute_result"
        }
      ],
      "source": [
        "list('palabra')"
      ]
    },
    {
      "cell_type": "code",
      "execution_count": null,
      "metadata": {
        "colab": {
          "base_uri": "https://localhost:8080/"
        },
        "id": "RwKMdomg-g1F",
        "outputId": "ed6c1bd2-49b6-4b97-d203-d90ede095658"
      },
      "outputs": [
        {
          "data": {
            "text/plain": [
              "['a',\n",
              " 'b',\n",
              " 'c',\n",
              " 'd',\n",
              " 'e',\n",
              " 'f',\n",
              " 'g',\n",
              " 'h',\n",
              " 'i',\n",
              " 'j',\n",
              " 'k',\n",
              " 'l',\n",
              " 'm',\n",
              " 'n',\n",
              " 'o',\n",
              " 'p',\n",
              " 'q',\n",
              " 'r',\n",
              " 's',\n",
              " 't',\n",
              " 'u',\n",
              " 'v',\n",
              " 'w',\n",
              " 'x',\n",
              " 'y',\n",
              " 'z']"
            ]
          },
          "execution_count": 7,
          "metadata": {},
          "output_type": "execute_result"
        }
      ],
      "source": [
        "list(string.ascii_lowercase)"
      ]
    },
    {
      "cell_type": "code",
      "execution_count": null,
      "metadata": {
        "colab": {
          "base_uri": "https://localhost:8080/"
        },
        "id": "87l6_q6ImDHq",
        "outputId": "d5f3ed0f-af3a-45ec-af1d-3bedaefb0c53"
      },
      "outputs": [
        {
          "data": {
            "text/plain": [
              "['b',\n",
              " 'c',\n",
              " 'e',\n",
              " 'f',\n",
              " 'h',\n",
              " 'i',\n",
              " 'k',\n",
              " 'l',\n",
              " 'n',\n",
              " 'o',\n",
              " 'q',\n",
              " 'r',\n",
              " 't',\n",
              " 'u',\n",
              " 'w',\n",
              " 'x',\n",
              " 'z']"
            ]
          },
          "execution_count": 15,
          "metadata": {},
          "output_type": "execute_result"
        }
      ],
      "source": [
        "resultado_final = [ abecedario[indice] for indice in range(0 , len(list(string.ascii_lowercase)) ) if indice%3 != 0]\n",
        "resultado_final"
      ]
    },
    {
      "cell_type": "markdown",
      "metadata": {
        "id": "A388YC7HmXlz"
      },
      "source": [
        "* Ejercicio 2. Crea un programa que muestre todos los divisores de un número cualquiera (primo o compuesto) el cual es introducido por el usuario. Almacena estos divisores en una lista. Muestre en una lista todos los divisores en común de los números 2050 y 1580."
      ]
    },
    {
      "cell_type": "code",
      "execution_count": null,
      "metadata": {
        "colab": {
          "base_uri": "https://localhost:8080/"
        },
        "id": "Y_Dc5Pt5mb96",
        "outputId": "9d477d50-dbbc-4b7b-cd3f-51f27eaf3c46"
      },
      "outputs": [
        {
          "name": "stdout",
          "output_type": "stream",
          "text": [
            "Introduce un numero entero positivo: 120\n",
            "Los divisores del numero  120  son  [1, 2, 3, 4, 5, 6, 8, 10, 12, 15, 20, 24, 30, 40, 60, 120]\n"
          ]
        }
      ],
      "source": [
        "def getDivisores (numero):\n",
        "  divisores = [div for div in range(1 , numero + 1) if numero%div == 0]\n",
        "  return divisores\n",
        "\n",
        "numero = int(input(\"Introduce un numero entero positivo: \"))\n",
        "\n",
        "print(\"Los divisores del numero \", numero, \" son \", getDivisores(numero))"
      ]
    },
    {
      "cell_type": "code",
      "execution_count": null,
      "metadata": {
        "colab": {
          "base_uri": "https://localhost:8080/"
        },
        "id": "Gp7gBmPgoSPo",
        "outputId": "c1fc74c5-8890-4d3e-fea7-21441d3b62d2"
      },
      "outputs": [
        {
          "name": "stdout",
          "output_type": "stream",
          "text": [
            "Los divisores en comun de los numero 2050 y 1580 son  [1, 2, 5, 10]\n"
          ]
        }
      ],
      "source": [
        "div_2050 = getDivisores(2050)\n",
        "div_1580 = getDivisores(1580)\n",
        "\n",
        "div_comun_2050_1580 = [div for div in div_2050 for divisor in div_1580 if div == divisor]\n",
        "print(\"Los divisores en comun de los numero 2050 y 1580 son \", div_comun_2050_1580)"
      ]
    }
  ],
  "metadata": {
    "colab": {
      "provenance": []
    },
    "kernelspec": {
      "display_name": "Python 3",
      "name": "python3"
    },
    "language_info": {
      "codemirror_mode": {
        "name": "ipython",
        "version": 3
      },
      "file_extension": ".py",
      "mimetype": "text/x-python",
      "name": "python",
      "nbconvert_exporter": "python",
      "pygments_lexer": "ipython3",
      "version": "3.11.4"
    }
  },
  "nbformat": 4,
  "nbformat_minor": 0
}
